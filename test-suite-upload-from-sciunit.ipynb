{
 "cells": [
  {
   "cell_type": "code",
   "execution_count": 1,
   "metadata": {},
   "outputs": [],
   "source": [
    "import sys"
   ]
  },
  {
   "cell_type": "code",
   "execution_count": 2,
   "metadata": {},
   "outputs": [
    {
     "data": {
      "text/plain": [
       "'3.6.9 (default, Apr 20 2021, 10:09:27) \\n[GCC 9.3.0]'"
      ]
     },
     "execution_count": 2,
     "metadata": {},
     "output_type": "execute_result"
    }
   ],
   "source": [
    "sys.version"
   ]
  },
  {
   "cell_type": "code",
   "execution_count": 3,
   "metadata": {},
   "outputs": [],
   "source": [
    "%matplotlib inline\n",
    "import os\n",
    "from pprint import pprint\n",
    "import matplotlib.pyplot as plt\n",
    "import sciunit\n",
    "import sciunit.scores\n",
    "import neuronunit\n",
    "from neuronunit.models.reduced import ReducedModel\n",
    "from neuronunit.capabilities import ProducesSpikes"
   ]
  },
  {
   "cell_type": "code",
   "execution_count": 4,
   "metadata": {},
   "outputs": [],
   "source": [
    "# Assumes imported neuronunit is from source, e.g. pip install -e\n",
    "path = os.path.join(neuronunit.__path__[0],'models/NeuroML2/LEMS_2007One.xml')\n",
    "# Instantiate three identical models\n",
    "models = [ReducedModel(path, name='Izhikevich_{}'.format(i), backend='jNeuroML') for i in range(4)]"
   ]
  },
  {
   "cell_type": "code",
   "execution_count": 5,
   "metadata": {},
   "outputs": [],
   "source": [
    "# Change the parameters of the second model\n",
    "models[1].set_attrs(**{'izhikevich2007Cell':{'a':'0.04 per_ms'}})\n",
    "models[1].name = 'Izhikevich_alt'"
   ]
  },
  {
   "cell_type": "code",
   "execution_count": null,
   "metadata": {},
   "outputs": [],
   "source": [
    "for model in models:\n",
    "    plt.plot(model.get_membrane_potential(),label=model)\n",
    "plt.legend();"
   ]
  },
  {
   "cell_type": "code",
   "execution_count": null,
   "metadata": {},
   "outputs": [],
   "source": [
    "# A new M2M test which will compare the equality of spike counts across models\n",
    "from scidash_api.tests import RandomTest"
   ]
  },
  {
   "cell_type": "code",
   "execution_count": null,
   "metadata": {},
   "outputs": [],
   "source": [
    "test = RandomTest(observation={'mean':8, 'std':3 })"
   ]
  },
  {
   "cell_type": "code",
   "execution_count": null,
   "metadata": {},
   "outputs": [],
   "source": [
    "s = test.judge(models)"
   ]
  },
  {
   "cell_type": "code",
   "execution_count": null,
   "metadata": {},
   "outputs": [],
   "source": [
    "s"
   ]
  },
  {
   "cell_type": "code",
   "execution_count": null,
   "metadata": {},
   "outputs": [],
   "source": [
    "x = test.json(string=False, add_props=True)\n",
    "pprint(x)"
   ]
  },
  {
   "cell_type": "code",
   "execution_count": null,
   "metadata": {},
   "outputs": [],
   "source": [
    "def check_url(x):\n",
    "    if not x.json(string=False).get('url'):\n",
    "        print(\"Model has no associated url; please set the url attribute of the model\")\n",
    "check_url(models[0])"
   ]
  },
  {
   "cell_type": "code",
   "execution_count": null,
   "metadata": {},
   "outputs": [],
   "source": [
    "# How do you want your GitHub URLs?  \n",
    "lems_url = (\"https://github.com/scidash/neuronunit/blob/master/neuronunit/\"\n",
    "            \"models/NeuroML2/LEMS_2007One.xml\")\n",
    "models[0]._url = lems_url\n",
    "models[1]._url = lems_url\n",
    "models[2]._url = lems_url\n",
    "models[3]._url = lems_url"
   ]
  },
  {
   "cell_type": "code",
   "execution_count": null,
   "metadata": {},
   "outputs": [],
   "source": [
    "check_url(models[0])"
   ]
  },
  {
   "cell_type": "code",
   "execution_count": null,
   "metadata": {},
   "outputs": [],
   "source": [
    "# Has fewer attributes because most of them came from the LEMS file so those are assumed\n",
    "# to still be the values in memory.  If we need to extract these then I need to find a\n",
    "# way to read them from the file; however, there may be no general way to do so for all\n",
    "# LEMS files, and certainly not for all possible models.  \n",
    "x = models[0].json(string=False)\n",
    "pprint(x)"
   ]
  },
  {
   "cell_type": "code",
   "execution_count": null,
   "metadata": {},
   "outputs": [],
   "source": [
    "# Has more attributes because some of the original attributes from the LEMS file \n",
    "# were replaced with new ones in this session\n",
    "x = models[1].json(string=False)\n",
    "pprint(x)"
   ]
  },
  {
   "cell_type": "code",
   "execution_count": null,
   "metadata": {},
   "outputs": [],
   "source": [
    "test2 = RandomTest(observation={'mean':3, 'std':8},name='Another Test')\n",
    "test3 = RandomTest(observation={'mean':2, 'std':8},name='Another Test 2')\n",
    "test4 = RandomTest(observation={'mean':4, 'std':8},name='Another Test 3')\n",
    "test5 = RandomTest(observation={'mean':1, 'std':8},name='Another Test 4')\n",
    "test1 = RandomTest(observation={'mean':5, 'std':4},name='Another Test 5')\n",
    "test8 = RandomTest(observation={'mean':4, 'std':8},name='Another Test 3')\n",
    "test9 = RandomTest(observation={'mean':1, 'std':8},name='Another Test 4')\n",
    "test10 = RandomTest(observation={'mean':5, 'std':4},name='Another Test 5')\n",
    "suite = sciunit.TestSuite([test,test2,test3,test4,test5,test8],name='My Test Suite')\n",
    "x = suite.json(add_props=True,string=False)\n",
    "pprint(x)"
   ]
  },
  {
   "cell_type": "code",
   "execution_count": null,
   "metadata": {},
   "outputs": [],
   "source": [
    "score_matrix = suite.judge(models)"
   ]
  },
  {
   "cell_type": "code",
   "execution_count": null,
   "metadata": {},
   "outputs": [],
   "source": [
    "from scidash_api import client"
   ]
  },
  {
   "cell_type": "code",
   "execution_count": null,
   "metadata": {},
   "outputs": [],
   "source": [
    "import json,urllib.request\n",
    "data = urllib.request.urlopen('https://raw.githubusercontent.com/MetaCell/scidash-api/development/config.json').read()\n",
    "config = json.loads(data)\n",
    "ip = config[\"prod\"][\"ip\"]\n",
    "print (ip)"
   ]
  },
  {
   "cell_type": "code",
   "execution_count": null,
   "metadata": {},
   "outputs": [],
   "source": [
    "client_instance = client.ScidashClient({\"base_url\": ip})\n",
    "\n",
    "client_instance.login(username='admin', password='admin_test')\n",
    "\n",
    "print(client_instance.token)"
   ]
  },
  {
   "cell_type": "code",
   "execution_count": null,
   "metadata": {},
   "outputs": [],
   "source": [
    "responses = client_instance.upload_suite_score(suite, score_matrix)"
   ]
  },
  {
   "cell_type": "code",
   "execution_count": null,
   "metadata": {},
   "outputs": [],
   "source": [
    "for response in responses:\n",
    "    pprint(response.json())"
   ]
  }
 ],
 "metadata": {
  "kernelspec": {
   "display_name": "Python 3",
   "language": "python",
   "name": "python3"
  },
  "language_info": {
   "codemirror_mode": {
    "name": "ipython",
    "version": 3
   },
   "file_extension": ".py",
   "mimetype": "text/x-python",
   "name": "python",
   "nbconvert_exporter": "python",
   "pygments_lexer": "ipython3",
   "version": "3.6.9"
  }
 },
 "nbformat": 4,
 "nbformat_minor": 2
}

{
 "cells": [
  {
   "cell_type": "code",
   "execution_count": 1,
   "metadata": {},
   "outputs": [
    {
     "name": "stdout",
     "output_type": "stream",
     "text": [
      "Could not load GLIFBackend\n"
     ]
    }
   ],
   "source": [
    "%load_ext autoreload\n",
    "%autoreload 2\n",
    "%matplotlib inline\n",
    "import matplotlib.pyplot as plt\n",
    "import os\n",
    "from pprint import pprint\n",
    "import quantities as pq\n",
    "import neuronunit\n",
    "from neuronunit.models.reduced import ReducedModel\n",
    "from neuronunit.capabilities import ProducesSpikes\n",
    "import sciunit\n",
    "import sciunit.scores"
   ]
  },
  {
   "cell_type": "code",
   "execution_count": 2,
   "metadata": {},
   "outputs": [],
   "source": [
    "from neuronunit.tests.passive import InputResistanceTest\n",
    "input_resistance_test = InputResistanceTest({'mean': 125*pq.MOhm,\n",
    "                                             'std': 40*pq.MOhm,\n",
    "                                             'n': 10})"
   ]
  },
  {
   "cell_type": "code",
   "execution_count": 3,
   "metadata": {},
   "outputs": [],
   "source": [
    "# Assumes imported neuronunit is from source, e.g. pip install -e\n",
    "path = os.path.join(neuronunit.__path__[0],'models/NeuroML2/LEMS_2007One.xml')\n",
    "# Instantiate three identical models\n",
    "models = [ReducedModel(path, name='Izhikevich_model', backend='jNeuroML') for i in range(2)]"
   ]
  },
  {
   "cell_type": "code",
   "execution_count": 4,
   "metadata": {},
   "outputs": [],
   "source": [
    "# Change the parameters of the second model\n",
    "models[1].set_attrs(**{'izhikevich2007Cell':{'a':'0.04 per_ms'}})\n",
    "models[1].name = 'Izhikevich_model_2'"
   ]
  },
  {
   "cell_type": "code",
   "execution_count": 5,
   "metadata": {},
   "outputs": [
    {
     "data": {
      "image/png": "[encoded data removed]",
      "text/plain": [
       "<Figure size 432x288 with 1 Axes>"
      ]
     },
     "metadata": {
      "needs_background": "light"
     },
     "output_type": "display_data"
    }
   ],
   "source": [
    "for model in models:\n",
    "    plt.plot(model.get_membrane_potential(), label=model)\n",
    "plt.legend();"
   ]
  },
  {
   "cell_type": "code",
   "execution_count": 6,
   "metadata": {},
   "outputs": [],
   "source": [
    "from neuronunit.tests.passive import InputResistanceTest\n",
    "input_resistance_test = InputResistanceTest({'mean': 125.0*pq.MOhm,\n",
    "                                             'std': 40.0*pq.MOhm,\n",
    "                                             'n': 10})\n",
    "suite = sciunit.TestSuite([input_resistance_test])"
   ]
  },
  {
   "cell_type": "code",
   "execution_count": 7,
   "metadata": {},
   "outputs": [],
   "source": [
    "for model in models:\n",
    "    model._backend.use_memory_cache = True"
   ]
  },
  {
   "cell_type": "code",
   "execution_count": 8,
   "metadata": {},
   "outputs": [],
   "source": [
    "#model.get_list_attr_with_bases('state_hide')"
   ]
  },
  {
   "cell_type": "code",
   "execution_count": 9,
   "metadata": {},
   "outputs": [
    {
     "name": "stdout",
     "output_type": "stream",
     "text": [
      "\u001b[38;2;254;189;109m\u001b[48;2;50;50;50mScore: Z = -1.13 for Izhikevich_model on InputResistanceTest\u001b[0m\n",
      "\u001b[38;2;254;189;109m\u001b[48;2;50;50;50mScore: Z = -1.13 for Izhikevich_model_2 on InputResistanceTest\u001b[0m\n"
     ]
    }
   ],
   "source": [
    "sm = suite.judge(models)\n",
    "import jsonpickle\n",
    "x = jsonpickle.encode(models[0])"
   ]
  },
  {
   "cell_type": "code",
   "execution_count": 10,
   "metadata": {},
   "outputs": [],
   "source": [
    "def check_url(x):\n",
    "    if not x.json(string=False).get('url'):\n",
    "        print(\"Model has no associated url; please set the url attribute of the model\")\n",
    "check_url(models[0])"
   ]
  },
  {
   "cell_type": "code",
   "execution_count": 11,
   "metadata": {},
   "outputs": [],
   "source": [
    "# How do you want your GitHub URLs?  \n",
    "lems_url = (\"https://github.com/scidash/neuronunit/blob/master/neuronunit/\"\n",
    "            \"models/NeuroML2/LEMS_2007One.xml\")\n",
    "models[0]._url = lems_url\n",
    "models[1]._url = lems_url"
   ]
  },
  {
   "cell_type": "code",
   "execution_count": 12,
   "metadata": {},
   "outputs": [],
   "source": [
    "check_url(models[0])"
   ]
  },
  {
   "cell_type": "code",
   "execution_count": 13,
   "metadata": {},
   "outputs": [
    {
     "data": {
      "text/plain": [
       "209"
      ]
     },
     "execution_count": 13,
     "metadata": {},
     "output_type": "execute_result"
    }
   ],
   "source": [
    "from scidash_api import client, settings\n",
    "url = settings.get_config('ip')\n",
    "client_instance = client.ScidashClient({\"base_url\": url},\n",
    "                                       hostname=\"Host's machine\")\n",
    "client_instance.login(username='admin',\n",
    "                      password='admin_test')\n",
    "len(client_instance.token)"
   ]
  },
  {
   "cell_type": "code",
   "execution_count": 14,
   "metadata": {},
   "outputs": [],
   "source": [
    "score = sm['Izhikevich_model', 'InputResistanceTest']"
   ]
  },
  {
   "cell_type": "code",
   "execution_count": 15,
   "metadata": {},
   "outputs": [],
   "source": [
    "responses = client_instance.upload_test_score(score)"
   ]
  },
  {
   "cell_type": "code",
   "execution_count": 16,
   "metadata": {},
   "outputs": [
    {
     "name": "stdout",
     "output_type": "stream",
     "text": [
      "{'data': {'error': None,\n",
      "          'hash_id': '3a291561693fa62decc4ab9f32e4d361d19b1de2880dffcf3c826776_a40ec46d977a3b6d99fd1afacfd476',\n",
      "          'id': 134,\n",
      "          'model_instance': {'attributes': {},\n",
      "                             'backend': None,\n",
      "                             'hash_id': 'bb6059250beb965b0571e133fe28fb7969086ef60ed5acabc824d597_a40ec46d977a3b6d99fd1afacfd476',\n",
      "                             'id': 52,\n",
      "                             'model_class': {'capabilities': [{'class_name': 'Runnable',\n",
      "                                                               'id': 18},\n",
      "                                                              {'class_name': 'ProducesActionPotentials',\n",
      "                                                               'id': 20},\n",
      "                                                              {'class_name': 'ProducesSpikes',\n",
      "                                                               'id': 21},\n",
      "                                                              {'class_name': 'ProducesMembranePotential',\n",
      "                                                               'id': 22},\n",
      "                                                              {'class_name': '<class '\n",
      "                                                                             \"'sciunit.capa...\",\n",
      "                                                               'id': 16},\n",
      "                                                              {'class_name': '<class '\n",
      "                                                                             \"'neuronunit.c...\",\n",
      "                                                               'id': 17},\n",
      "                                                              {'class_name': 'sciunit.capabilities.Runnable',\n",
      "                                                               'id': 26},\n",
      "                                                              {'class_name': 'neuronunit.capabilities.ReceivesSquareCurrent',\n",
      "                                                               'id': 27},\n",
      "                                                              {'class_name': 'neuronunit.capabilities.ProducesActionPotentials',\n",
      "                                                               'id': 28},\n",
      "                                                              {'class_name': 'neuronunit.capabilities.ProducesSpikes',\n",
      "                                                               'id': 29},\n",
      "                                                              {'class_name': 'neuronunit.capabilities.ProducesMembranePotential',\n",
      "                                                               'id': 30}],\n",
      "                                             'class_name': 'ReducedModel',\n",
      "                                             'extra_capabilities': [19],\n",
      "                                             'id': 14,\n",
      "                                             'import_path': 'neuronunit.models.reduced.ReducedModel',\n",
      "                                             'memo': '',\n",
      "                                             'url': 'https://github.com/scidash/neuronunit/blob/master/neuronunit/models/NeuroML2/LEMS_2007One.xml'},\n",
      "                             'name': 'Izhikevich_model',\n",
      "                             'owner': {'date_joined': '2018-04-19T14:37:37.022603',\n",
      "                                       'email': 'admin@admin.cc',\n",
      "                                       'first_name': '',\n",
      "                                       'groups': [],\n",
      "                                       'id': 1,\n",
      "                                       'is_active': True,\n",
      "                                       'is_staff': True,\n",
      "                                       'is_superuser': True,\n",
      "                                       'last_login': '2021-06-25T23:05:10.225109',\n",
      "                                       'last_name': '',\n",
      "                                       'show_instructions': True,\n",
      "                                       'user_permissions': [],\n",
      "                                       'username': 'admin'},\n",
      "                             'run_params': {},\n",
      "                             'status': 'l',\n",
      "                             'tags': [],\n",
      "                             'timestamp': '2021-06-28T13:45:20.415100',\n",
      "                             'url': 'https://github.com/scidash/neuronunit/blob/master/neuronunit/models/NeuroML2/LEMS_2007One.xml'},\n",
      "          'owner': {'date_joined': '2018-04-19T14:37:37.022603',\n",
      "                    'email': 'admin@admin.cc',\n",
      "                    'first_name': '',\n",
      "                    'groups': [],\n",
      "                    'id': 1,\n",
      "                    'is_active': True,\n",
      "                    'is_staff': True,\n",
      "                    'is_superuser': True,\n",
      "                    'last_login': '2021-06-25T23:05:10.225109',\n",
      "                    'last_name': '',\n",
      "                    'show_instructions': True,\n",
      "                    'user_permissions': [],\n",
      "                    'username': 'admin'},\n",
      "          'prediction': {'value': {'py/object': 'quantities.quantity.Quantity',\n",
      "                                   'py/state': {'base': '79633999.99999717',\n",
      "                                                'units': 'kg*m**2/(s**3*A**2)'}}},\n",
      "          'raw': '-1.134',\n",
      "          'score': -1.1341500000000708,\n",
      "          'score_class': {'class_name': 'ZScore',\n",
      "                          'id': 6,\n",
      "                          'url': 'http://github.com/MetaCell/scidash.git'},\n",
      "          'score_type': 'ZScore',\n",
      "          'sort_key': 0.25673163324164294,\n",
      "          'status': 'c',\n",
      "          'summary': '=== Model Izhikevich_model achieved score Z = -1.13 on '\n",
      "                     \"test 'InputResistanceTest'. ===\",\n",
      "          'test_instance': {'build_info': 'Linux-5.4.0-77-generic-x86_64-with-debian-bullseye-sid/Linux',\n",
      "                            'description': 'A test of the input resistance of '\n",
      "                                           'a cell.',\n",
      "                            'hash_id': '8b84983eb6bea5db0e3985857fb3a66f00b115fc0c4d4f79e038ce3b_a40ec46d977a3b6d99fd1afacfd476',\n",
      "                            'hostname': \"Host's machine\",\n",
      "                            'id': 56,\n",
      "                            'name': 'Default Name',\n",
      "                            'observation': {'mean': {'py/object': 'quantities.quantity.Quantity',\n",
      "                                                     'py/state': {'base': '125.0',\n",
      "                                                                  'units': 'megaohm'}},\n",
      "                                            'n': 10,\n",
      "                                            'std': {'py/object': 'quantities.quantity.Quantity',\n",
      "                                                    'py/state': {'base': '40.0',\n",
      "                                                                 'units': 'megaohm'}}},\n",
      "                            'owner': {'date_joined': '2018-04-19T14:37:37.022603',\n",
      "                                      'email': 'admin@admin.cc',\n",
      "                                      'first_name': '',\n",
      "                                      'groups': [],\n",
      "                                      'id': 1,\n",
      "                                      'is_active': True,\n",
      "                                      'is_staff': True,\n",
      "                                      'is_superuser': True,\n",
      "                                      'last_login': '2021-06-25T23:05:10.225109',\n",
      "                                      'last_name': '',\n",
      "                                      'show_instructions': True,\n",
      "                                      'user_permissions': [],\n",
      "                                      'username': 'admin'},\n",
      "                            'params': None,\n",
      "                            'status': 'l',\n",
      "                            'tags': [],\n",
      "                            'test_class': {'class_name': 'InputResistanceTest '\n",
      "                                                         '(neuronunit.tests.passive)',\n",
      "                                           'default_params': {'amplitude': -1.0000000000000001e-11,\n",
      "                                                              'delay': 0.1,\n",
      "                                                              'dt': 2.5e-05,\n",
      "                                                              'duration': 0.3,\n",
      "                                                              'padding': 0.2},\n",
      "                                           'id': 120,\n",
      "                                           'import_path': 'neuronunit.tests.passive.InputResistanceTest',\n",
      "                                           'memo': None,\n",
      "                                           'observation_schema': [['Mean, '\n",
      "                                                                   'Standard '\n",
      "                                                                   'Deviation, '\n",
      "                                                                   'N',\n",
      "                                                                   {'mean': {'required': True,\n",
      "                                                                             'units': True},\n",
      "                                                                    'n': {'min': 1,\n",
      "                                                                          'type': 'integer'},\n",
      "                                                                    'std': {'min': 0,\n",
      "                                                                            'required': True,\n",
      "                                                                            'units': True}}],\n",
      "                                                                  ['Mean, '\n",
      "                                                                   'Standard '\n",
      "                                                                   'Error, N',\n",
      "                                                                   {'mean': {'required': True,\n",
      "                                                                             'units': True},\n",
      "                                                                    'n': {'min': 1,\n",
      "                                                                          'required': True,\n",
      "                                                                          'type': 'integer'},\n",
      "                                                                    'sem': {'min': 0,\n",
      "                                                                            'required': True,\n",
      "                                                                            'units': True}}]],\n",
      "                                           'params_units': {'amplitude': 'quantities.A',\n",
      "                                                            'delay': 'quantities.s',\n",
      "                                                            'dt': 'quantities.s',\n",
      "                                                            'duration': 'quantities.s',\n",
      "                                                            'padding': 'quantities.s',\n",
      "                                                            'tmax': 'quantities.s'},\n",
      "                                           'test_parameters_schema': {'amplitude': {'required': False,\n",
      "                                                                                    'type': 'current'},\n",
      "                                                                      'delay': {'min': 0,\n",
      "                                                                                'required': False,\n",
      "                                                                                'type': 'time'},\n",
      "                                                                      'dt': {'min': 0,\n",
      "                                                                             'required': False,\n",
      "                                                                             'type': 'time'},\n",
      "                                                                      'duration': {'min': 0,\n",
      "                                                                                   'required': False,\n",
      "                                                                                   'type': 'time'},\n",
      "                                                                      'padding': {'min': 0,\n",
      "                                                                                  'required': False,\n",
      "                                                                                  'type': 'time'},\n",
      "                                                                      'tmax': {'min': 0,\n",
      "                                                                               'required': False,\n",
      "                                                                               'type': 'time'}},\n",
      "                                           'units': '{\"name\": \"megaohm\", '\n",
      "                                                    '\"base\": {\"quantity\": '\n",
      "                                                    '\"quantities.ohm\", '\n",
      "                                                    '\"coefficient\": '\n",
      "                                                    '1000000.0}, \"symbol\": '\n",
      "                                                    '\"Mohm\"}',\n",
      "                                           'units_name': 'megaohm',\n",
      "                                           'url': 'http://github.com/scidash/neuronunit.git'},\n",
      "                            'test_suites': [],\n",
      "                            'timestamp': '2021-06-28T13:45:20.412809',\n",
      "                            'verbose': 1},\n",
      "          'timestamp': '2021-06-28T13:45:20.408659'},\n",
      " 'success': True}\n"
     ]
    }
   ],
   "source": [
    "pprint(responses.json())"
   ]
  }
 ],
 "metadata": {
  "kernelspec": {
   "display_name": "Python 3",
   "language": "python",
   "name": "python3"
  },
  "language_info": {
   "codemirror_mode": {
    "name": "ipython",
    "version": 3
   },
   "file_extension": ".py",
   "mimetype": "text/x-python",
   "name": "python",
   "nbconvert_exporter": "python",
   "pygments_lexer": "ipython3",
   "version": "3.6.9"
  },
  "metadata": {
   "interpreter": {
    "hash": "200d8bda05219571bf0cb14ef76b4a8bbed56ca98de6a8d96871db40ccbf5425"
   }
  }
 },
 "nbformat": 4,
 "nbformat_minor": 4
}

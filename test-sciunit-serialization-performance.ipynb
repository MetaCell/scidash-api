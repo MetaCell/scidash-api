{
 "cells": [
  {
   "cell_type": "code",
   "execution_count": 20,
   "metadata": {},
   "outputs": [],
   "source": [
    "import sys"
   ]
  },
  {
   "cell_type": "code",
   "execution_count": 21,
   "metadata": {},
   "outputs": [
    {
     "data": {
      "text/plain": [
       "'3.6.9 (default, Apr 20 2021, 10:09:27) \\n[GCC 9.3.0]'"
      ]
     },
     "execution_count": 21,
     "metadata": {},
     "output_type": "execute_result"
    }
   ],
   "source": [
    "sys.version"
   ]
  },
  {
   "cell_type": "code",
   "execution_count": 22,
   "metadata": {},
   "outputs": [],
   "source": [
    "%matplotlib  inline\n",
    "import os\n",
    "from pprint import pprint\n",
    "import matplotlib.pyplot as plt\n",
    "import sciunit\n",
    "import sciunit.scores\n",
    "import neuronunit\n",
    "from neuronunit.models.reduced import ReducedModel\n",
    "from neuronunit.capabilities import ProducesSpikes"
   ]
  },
  {
   "cell_type": "code",
   "execution_count": 23,
   "metadata": {},
   "outputs": [],
   "source": [
    "# Assumes imported neuronunit is from source, e.g. pip install -e\n",
    "path = os.path.join(neuronunit.__path__[0],'models/NeuroML2/LEMS_2007One.xml')\n",
    "# Instantiate three identical models\n",
    "models = [ReducedModel(path, name='Izhikevich_{}'.format(i), backend='jNeuroML') for i in range(5)]"
   ]
  },
  {
   "cell_type": "code",
   "execution_count": 24,
   "metadata": {},
   "outputs": [
    {
     "ename": "TypeError",
     "evalue": "set_attrs() takes 1 positional argument but 2 were given",
     "output_type": "error",
     "traceback": [
      "\u001b[0;31m---------------------------------------------------------------------------\u001b[0m",
      "\u001b[0;31mTypeError\u001b[0m                                 Traceback (most recent call last)",
      "\u001b[0;32m<ipython-input-24-8199575b0edb>\u001b[0m in \u001b[0;36m<module>\u001b[0;34m\u001b[0m\n\u001b[1;32m      1\u001b[0m \u001b[0;31m# Change the parameters of the second model\u001b[0m\u001b[0;34m\u001b[0m\u001b[0;34m\u001b[0m\u001b[0;34m\u001b[0m\u001b[0m\n\u001b[0;32m----> 2\u001b[0;31m \u001b[0mmodels\u001b[0m\u001b[0;34m[\u001b[0m\u001b[0;36m1\u001b[0m\u001b[0;34m]\u001b[0m\u001b[0;34m.\u001b[0m\u001b[0mset_attrs\u001b[0m\u001b[0;34m(\u001b[0m\u001b[0;34m{\u001b[0m\u001b[0;34m'izhikevich2007Cell'\u001b[0m\u001b[0;34m:\u001b[0m\u001b[0;34m{\u001b[0m\u001b[0;34m'a'\u001b[0m\u001b[0;34m:\u001b[0m\u001b[0;34m'0.04 per_ms'\u001b[0m\u001b[0;34m}\u001b[0m\u001b[0;34m}\u001b[0m\u001b[0;34m)\u001b[0m\u001b[0;34m\u001b[0m\u001b[0;34m\u001b[0m\u001b[0m\n\u001b[0m\u001b[1;32m      3\u001b[0m \u001b[0mmodels\u001b[0m\u001b[0;34m[\u001b[0m\u001b[0;36m1\u001b[0m\u001b[0;34m]\u001b[0m\u001b[0;34m.\u001b[0m\u001b[0mname\u001b[0m \u001b[0;34m=\u001b[0m \u001b[0;34m'Izhikevich_another_test'\u001b[0m\u001b[0;34m\u001b[0m\u001b[0;34m\u001b[0m\u001b[0m\n",
      "\u001b[0;31mTypeError\u001b[0m: set_attrs() takes 1 positional argument but 2 were given"
     ]
    }
   ],
   "source": [
    "# Change the parameters of the second model\n",
    "models[1].set_attrs(**{'izhikevich2007Cell':{'a':'0.04 per_ms'}})\n",
    "models[1].name = 'Izhikevich_another_test'"
   ]
  },
  {
   "cell_type": "code",
   "execution_count": 25,
   "metadata": {},
   "outputs": [
    {
     "name": "stderr",
     "output_type": "stream",
     "text": [
      "/opt/projects/metacell/scidash/scidash/venv/lib/python3.6/site-packages/IPython/core/pylabtools.py:128: UserWarning: Creating legend with loc=\"best\" can be slow with large amounts of data.\n",
      "  fig.canvas.print_figure(bytes_io, **kw)\n"
     ]
    },
    {
     "data": {
      "image/png": "[encoded data removed]",
      "text/plain": [
       "<Figure size 432x288 with 1 Axes>"
      ]
     },
     "metadata": {
      "needs_background": "light"
     },
     "output_type": "display_data"
    }
   ],
   "source": [
    "for model in models:\n",
    "    plt.plot(model.get_membrane_potential(),label=model)\n",
    "plt.legend();"
   ]
  },
  {
   "cell_type": "code",
   "execution_count": 7,
   "metadata": {},
   "outputs": [],
   "source": [
    "# A new M2M test which will compare the equality of spike counts across models\n",
    "class TestFromJupyterNotebook(sciunit.Test):\n",
    "    required_capabilities = (ProducesSpikes,)\n",
    "    score_type = sciunit.scores.ZScore\n",
    "    url = \"http://testurl.data.com\"\n",
    "    def generate_prediction(self,model):\n",
    "        count = model.get_spike_count()\n",
    "        return count"
   ]
  },
  {
   "cell_type": "code",
   "execution_count": 8,
   "metadata": {},
   "outputs": [],
   "source": [
    "test = TestFromJupyterNotebook(observation={'mean':8, 'std':3, 'url':'http://somewhereelse.thathasdata.com'})"
   ]
  },
  {
   "cell_type": "code",
   "execution_count": 9,
   "metadata": {},
   "outputs": [
    {
     "data": {
      "text/html": [
       "Executing test <i>TestFromJupyterNotebook</i> on model <i>Izhikevich_0</i>... "
      ],
      "text/plain": [
       "<IPython.core.display.HTML object>"
      ]
     },
     "metadata": {},
     "output_type": "display_data"
    },
    {
     "data": {
      "text/html": [
       "Score is <a style=\"color: rgb(183,225,117)\">Z = -0.33</a>\n"
      ],
      "text/plain": [
       "<IPython.core.display.HTML object>"
      ]
     },
     "metadata": {},
     "output_type": "display_data"
    },
    {
     "data": {
      "text/html": [
       "Executing test <i>TestFromJupyterNotebook</i> on model <i>Izhikevich_another_test</i>... "
      ],
      "text/plain": [
       "<IPython.core.display.HTML object>"
      ]
     },
     "metadata": {},
     "output_type": "display_data"
    },
    {
     "data": {
      "text/html": [
       "Score is <a style=\"color: rgb(60,169,88)\">Z = 0.00</a>\n"
      ],
      "text/plain": [
       "<IPython.core.display.HTML object>"
      ]
     },
     "metadata": {},
     "output_type": "display_data"
    },
    {
     "data": {
      "text/html": [
       "Executing test <i>TestFromJupyterNotebook</i> on model <i>Izhikevich_2</i>... "
      ],
      "text/plain": [
       "<IPython.core.display.HTML object>"
      ]
     },
     "metadata": {},
     "output_type": "display_data"
    },
    {
     "data": {
      "text/html": [
       "Score is <a style=\"color: rgb(183,225,117)\">Z = -0.33</a>\n"
      ],
      "text/plain": [
       "<IPython.core.display.HTML object>"
      ]
     },
     "metadata": {},
     "output_type": "display_data"
    },
    {
     "data": {
      "text/html": [
       "Executing test <i>TestFromJupyterNotebook</i> on model <i>Izhikevich_3</i>... "
      ],
      "text/plain": [
       "<IPython.core.display.HTML object>"
      ]
     },
     "metadata": {},
     "output_type": "display_data"
    },
    {
     "data": {
      "text/html": [
       "Score is <a style=\"color: rgb(183,225,117)\">Z = -0.33</a>\n"
      ],
      "text/plain": [
       "<IPython.core.display.HTML object>"
      ]
     },
     "metadata": {},
     "output_type": "display_data"
    },
    {
     "data": {
      "text/html": [
       "Executing test <i>TestFromJupyterNotebook</i> on model <i>Izhikevich_4</i>... "
      ],
      "text/plain": [
       "<IPython.core.display.HTML object>"
      ]
     },
     "metadata": {},
     "output_type": "display_data"
    },
    {
     "data": {
      "text/html": [
       "Score is <a style=\"color: rgb(183,225,117)\">Z = -0.33</a>\n"
      ],
      "text/plain": [
       "<IPython.core.display.HTML object>"
      ]
     },
     "metadata": {},
     "output_type": "display_data"
    }
   ],
   "source": [
    "s = test.judge(models)"
   ]
  },
  {
   "cell_type": "code",
   "execution_count": 10,
   "metadata": {},
   "outputs": [
    {
     "data": {
      "text/html": [
       "<html><body><div>\n",
       "<table border=\"1\" class=\"dataframe\" id=\"-3795999425515804975\">\n",
       "<thead>\n",
       "<tr style=\"text-align: right;\">\n",
       "<th></th>\n",
       "<th title>TestFromJupyterNotebook</th>\n",
       "</tr>\n",
       "</thead>\n",
       "<tbody>\n",
       "<tr>\n",
       "<th title=\"Base class for reduced models, using LEMS\">Izhikevich_0</th>\n",
       "<td style=\"background-color: rgb(183,225,117);\" title=\"A Z score. A float indicating standardized difference from a reference mean.\n",
       "The difference between the means of the observation and prediction divided by the standard deviation of the observation\">Z = -0.33</td>\n",
       "</tr>\n",
       "<tr>\n",
       "<th title=\"Base class for reduced models, using LEMS\">Izhikevich_another_test</th>\n",
       "<td style=\"background-color: rgb(60,169,88);\" title=\"A Z score. A float indicating standardized difference from a reference mean.\n",
       "The difference between the means of the observation and prediction divided by the standard deviation of the observation\">Z = 0.00</td>\n",
       "</tr>\n",
       "<tr>\n",
       "<th title=\"Base class for reduced models, using LEMS\">Izhikevich_2</th>\n",
       "<td style=\"background-color: rgb(183,225,117);\" title=\"A Z score. A float indicating standardized difference from a reference mean.\n",
       "The difference between the means of the observation and prediction divided by the standard deviation of the observation\">Z = -0.33</td>\n",
       "</tr>\n",
       "<tr>\n",
       "<th title=\"Base class for reduced models, using LEMS\">Izhikevich_3</th>\n",
       "<td style=\"background-color: rgb(183,225,117);\" title=\"A Z score. A float indicating standardized difference from a reference mean.\n",
       "The difference between the means of the observation and prediction divided by the standard deviation of the observation\">Z = -0.33</td>\n",
       "</tr>\n",
       "<tr>\n",
       "<th title=\"Base class for reduced models, using LEMS\">Izhikevich_4</th>\n",
       "<td style=\"background-color: rgb(183,225,117);\" title=\"A Z score. A float indicating standardized difference from a reference mean.\n",
       "The difference between the means of the observation and prediction divided by the standard deviation of the observation\">Z = -0.33</td>\n",
       "</tr>\n",
       "</tbody>\n",
       "</table>\n",
       "</div></body></html>"
      ],
      "text/plain": [
       "                        TestFromJupyterNotebook\n",
       "Izhikevich_0                          Z = -0.33\n",
       "Izhikevich_another_test                Z = 0.00\n",
       "Izhikevich_2                          Z = -0.33\n",
       "Izhikevich_3                          Z = -0.33\n",
       "Izhikevich_4                          Z = -0.33"
      ]
     },
     "execution_count": 10,
     "metadata": {},
     "output_type": "execute_result"
    }
   ],
   "source": [
    "s"
   ]
  },
  {
   "cell_type": "code",
   "execution_count": 11,
   "metadata": {},
   "outputs": [
    {
     "name": "stdout",
     "output_type": "stream",
     "text": [
      "CPU times: user 261 µs, sys: 36 µs, total: 297 µs\n",
      "Wall time: 303 µs\n",
      "{'_class': {'name': 'TestFromJupyterNotebook',\n",
      "            'url': 'http://testurl.data.com'},\n",
      " '_id': 4842193304,\n",
      " 'description': None,\n",
      " 'hash': 'd5ea8ad7d24c391af598b4dc3f49cfb5d6dec2403f36ffdb9459d222',\n",
      " 'name': 'TestFromJupyterNotebook',\n",
      " 'observation': {'mean': 8,\n",
      "                 'std': 3,\n",
      "                 'url': 'http://somewhereelse.thathasdata.com'},\n",
      " 'remote_url': None,\n",
      " 'unpicklable': [],\n",
      " 'verbose': 1,\n",
      " 'version': None}\n"
     ]
    }
   ],
   "source": [
    "%time x = test.json(string=False, add_props=True)\n",
    "pprint(x)"
   ]
  },
  {
   "cell_type": "code",
   "execution_count": 12,
   "metadata": {},
   "outputs": [
    {
     "name": "stdout",
     "output_type": "stream",
     "text": [
      "Model has no associated url; please set the url attribute of the model\n"
     ]
    }
   ],
   "source": [
    "def check_url(x):\n",
    "    if not x.json(string=False).get('url'):\n",
    "        print(\"Model has no associated url; please set the url attribute of the model\")\n",
    "check_url(models[0])"
   ]
  },
  {
   "cell_type": "code",
   "execution_count": 13,
   "metadata": {},
   "outputs": [],
   "source": [
    "# How do you want your GitHub URLs?  \n",
    "lems_url = (\"https://github.com/scidash/neuronunit/blob/master/neuronunit/\"\n",
    "            \"models/NeuroML2/LEMS_2007One.xml\")\n",
    "models[0]._url = lems_url\n",
    "models[1]._url = lems_url\n",
    "models[2]._url = lems_url\n",
    "models[3]._url = lems_url\n",
    "models[4]._url = lems_url"
   ]
  },
  {
   "cell_type": "code",
   "execution_count": 14,
   "metadata": {},
   "outputs": [
    {
     "name": "stdout",
     "output_type": "stream",
     "text": [
      "Model has no associated url; please set the url attribute of the model\n"
     ]
    }
   ],
   "source": [
    "check_url(models[0])"
   ]
  },
  {
   "cell_type": "code",
   "execution_count": 15,
   "metadata": {},
   "outputs": [
    {
     "name": "stdout",
     "output_type": "stream",
     "text": [
      "CPU times: user 67 µs, sys: 1 µs, total: 68 µs\n",
      "Wall time: 72 µs\n",
      "{'attrs': {}, 'backend': 'jNeuroML', 'name': 'Izhikevich_0', 'run_params': {}}\n"
     ]
    }
   ],
   "source": [
    "# Has fewer attributes because most of them came from the LEMS file so those are assumed\n",
    "# to still be the values in memory.  If we need to extract these then I need to find a\n",
    "# way to read them from the file; however, there may be no general way to do so for all\n",
    "# LEMS files, and certainly not for all possible models.  \n",
    "%time x = models[0].json(string=False)\n",
    "pprint(x)"
   ]
  },
  {
   "cell_type": "code",
   "execution_count": 16,
   "metadata": {},
   "outputs": [
    {
     "name": "stdout",
     "output_type": "stream",
     "text": [
      "CPU times: user 65 µs, sys: 0 ns, total: 65 µs\n",
      "Wall time: 69.1 µs\n",
      "{'attrs': {'izhikevich2007Cell': {'a': '0.04 per_ms'}},\n",
      " 'backend': 'jNeuroML',\n",
      " 'name': 'Izhikevich_another_test',\n",
      " 'run_params': {}}\n"
     ]
    }
   ],
   "source": [
    "# Has more attributes because some of the original attributes from the LEMS file \n",
    "# were replaced with new ones in this session\n",
    "%time x = models[1].json(string=False)\n",
    "pprint(x)"
   ]
  },
  {
   "cell_type": "code",
   "execution_count": 17,
   "metadata": {},
   "outputs": [
    {
     "name": "stdout",
     "output_type": "stream",
     "text": [
      "CPU times: user 87.5 ms, sys: 43.5 ms, total: 131 ms\n",
      "Wall time: 178 ms\n",
      "{'_class': {'name': 'ZScore', 'url': 'http://github.com/scidash/sciunit.git'},\n",
      " '_id': 4698557800,\n",
      " 'hash': '05195d51ec8c413a5edecab8c22022c35bb1fd2995e09acb4416d06e',\n",
      " 'model': {'_class': {'name': 'ReducedModel',\n",
      "                      'url': 'https://github.com/scidash/neuronunit/blob/master/neuronunit/models/NeuroML2/LEMS_2007One.xml'},\n",
      "           '_id': 4698557296,\n",
      "           'attrs': {'izhikevich2007Cell': {'a': '0.04 per_ms'}},\n",
      "           'backend': 'jNeuroML',\n",
      "           'capabilities': ['Runnable',\n",
      "                            'ReceivesCurrent',\n",
      "                            'ReceivesSquareCurrent',\n",
      "                            'ProducesActionPotentials',\n",
      "                            'ProducesSpikes',\n",
      "                            'ProducesMembranePotential'],\n",
      "           'hash': 'b086fb5512bc8fb7ba7bac528a98466bf4e782f78ec369da883bb0c8',\n",
      "           'name': 'Izhikevich_another_test',\n",
      "           'remote_url': 'http://github.com/scidash/neuronunit.git',\n",
      "           'run_params': {},\n",
      "           'url': 'https://github.com/scidash/neuronunit/blob/master/neuronunit/models/NeuroML2/LEMS_2007One.xml',\n",
      "           'version': '8b85b8e53b136e112a3001c5317bed2ff22f458a'},\n",
      " 'observation': {'mean': 8,\n",
      "                 'std': 3,\n",
      "                 'url': 'http://somewhereelse.thathasdata.com'},\n",
      " 'prediction': 8,\n",
      " 'raw': '0',\n",
      " 'related_data': {},\n",
      " 'remote_url': 'http://github.com/scidash/sciunit.git',\n",
      " 'score': 0.0,\n",
      " 'score_type': 'ZScore',\n",
      " 'sort_key': 1.0,\n",
      " 'summary': '=== Model Izhikevich_another_test achieved score Z = 0.00 on test '\n",
      "            \"'TestFromJupyterNotebook'. ===\",\n",
      " 'test': {'_class': {'name': 'TestFromJupyterNotebook',\n",
      "                     'url': 'http://testurl.data.com'},\n",
      "          '_id': 4842193304,\n",
      "          'description': None,\n",
      "          'hash': 'd5ea8ad7d24c391af598b4dc3f49cfb5d6dec2403f36ffdb9459d222',\n",
      "          'name': 'TestFromJupyterNotebook',\n",
      "          'observation': {'mean': 8,\n",
      "                          'std': 3,\n",
      "                          'url': 'http://somewhereelse.thathasdata.com'},\n",
      "          'remote_url': None,\n",
      "          'unpicklable': [],\n",
      "          'verbose': 1,\n",
      "          'version': None},\n",
      " 'unpicklable': [],\n",
      " 'url': 'http://github.com/scidash/sciunit.git',\n",
      " 'version': '84ef7e368746a36cc2b0372198e0354221904cc0'}\n"
     ]
    }
   ],
   "source": [
    "# Select one score from the score matrix\n",
    "score = s['Izhikevich_another_test','TestFromJupyterNotebook']\n",
    "%time x = score.json(string=False, add_props=True)\n",
    "pprint(x)"
   ]
  },
  {
   "cell_type": "code",
   "execution_count": 18,
   "metadata": {},
   "outputs": [
    {
     "name": "stdout",
     "output_type": "stream",
     "text": [
      "CPU times: user 56.4 ms, sys: 27.1 ms, total: 83.5 ms\n",
      "Wall time: 101 ms\n",
      "{'_class': {'name': 'TestSuite',\n",
      "            'url': 'http://github.com/scidash/sciunit.git'},\n",
      " '_id': 4947054040,\n",
      " 'hash': '02a3a20d604c19b8f095bf42b2bee5af4b9668f3539215901be5dc5b',\n",
      " 'hooks': None,\n",
      " 'include_models': [],\n",
      " 'name': 'My Test Suite',\n",
      " 'remote_url': 'http://github.com/scidash/sciunit.git',\n",
      " 'skip_models': [],\n",
      " 'tests': [{'_class': {'name': 'TestFromJupyterNotebook',\n",
      "                       'url': 'http://testurl.data.com'},\n",
      "            '_id': 4842193304,\n",
      "            'description': None,\n",
      "            'hash': 'd5ea8ad7d24c391af598b4dc3f49cfb5d6dec2403f36ffdb9459d222',\n",
      "            'name': 'TestFromJupyterNotebook',\n",
      "            'observation': {'mean': 8,\n",
      "                            'std': 3,\n",
      "                            'url': 'http://somewhereelse.thathasdata.com'},\n",
      "            'remote_url': None,\n",
      "            'unpicklable': [],\n",
      "            'verbose': 1,\n",
      "            'version': None},\n",
      "           {'_class': {'name': 'TestFromJupyterNotebook',\n",
      "                       'url': 'http://testurl.data.com'},\n",
      "            '_id': 4947053648,\n",
      "            'description': None,\n",
      "            'hash': 'a47279f06afb6907a8c8daf5028923e89d4bd0455286cea268425f74',\n",
      "            'name': 'Another Test',\n",
      "            'observation': {'mean': 3,\n",
      "                            'std': 8,\n",
      "                            'url': 'http://somewhereelse0.thathasdata.com'},\n",
      "            'remote_url': None,\n",
      "            'unpicklable': [],\n",
      "            'verbose': 1,\n",
      "            'version': None},\n",
      "           {'_class': {'name': 'TestFromJupyterNotebook',\n",
      "                       'url': 'http://testurl.data.com'},\n",
      "            '_id': 4947053592,\n",
      "            'description': None,\n",
      "            'hash': 'eaf1dc52976a9fcc7e8d21cd59ac8e75a9cdf73d59da71f2ac5d4139',\n",
      "            'name': 'Another Test 2',\n",
      "            'observation': {'mean': 2,\n",
      "                            'std': 8,\n",
      "                            'url': 'http://somewhereelse1.thathasdata.com'},\n",
      "            'remote_url': None,\n",
      "            'unpicklable': [],\n",
      "            'verbose': 1,\n",
      "            'version': None}],\n",
      " 'unpicklable': [],\n",
      " 'url': 'http://github.com/scidash/sciunit.git',\n",
      " 'version': '84ef7e368746a36cc2b0372198e0354221904cc0',\n",
      " 'weights': [0.3333333333333333, 0.3333333333333333, 0.3333333333333333],\n",
      " 'weights_': []}\n"
     ]
    }
   ],
   "source": [
    "test2 =  TestFromJupyterNotebook(observation={'mean':3, 'std':8, 'url':'http://somewhereelse0.thathasdata.com'},name='Another Test')\n",
    "test3 = TestFromJupyterNotebook(observation={'mean':2, 'std':8, 'url':'http://somewhereelse1.thathasdata.com'},name='Another Test 2')\n",
    "test4 = TestFromJupyterNotebook(observation={'mean':4, 'std':8, 'url':'http://somewhereelse2.thathasdata.com'},name='Another Test 3')\n",
    "test5 = TestFromJupyterNotebook(observation={'mean':1, 'std':8, 'url':'http://somewhereelse3.thathasdata.com'},name='Another Test 4')\n",
    "test1 = TestFromJupyterNotebook(observation={'mean':5, 'std':4, 'url':'http://somewhereelse4.thathasdata.com'},name='Another Test 5')\n",
    "test8 = TestFromJupyterNotebook(observation={'mean':4, 'std':8, 'url':'http://somewhereelse2.thathasdata.com'},name='Another Test 3')\n",
    "test9 = TestFromJupyterNotebook(observation={'mean':1, 'std':8, 'url':'http://somewhereelse3.thathasdata.com'},name='Another Test 4')\n",
    "test10 = TestFromJupyterNotebook(observation={'mean':5, 'std':4, 'url':'http://somewhereelse4.thathasdata.com'},name='Another Test 5')\n",
    "suite = sciunit.TestSuite([test,test2,test3],name='My Test Suite')\n",
    "\n",
    "%time x = suite.json(add_props=True,string=False)\n",
    "\n",
    "pprint(x)"
   ]
  },
  {
   "cell_type": "code",
   "execution_count": 19,
   "metadata": {},
   "outputs": [
    {
     "data": {
      "text/html": [
       "Executing test <i>TestFromJupyterNotebook</i> on model <i>Izhikevich_0</i>... "
      ],
      "text/plain": [
       "<IPython.core.display.HTML object>"
      ]
     },
     "metadata": {},
     "output_type": "display_data"
    },
    {
     "data": {
      "text/html": [
       "Score is <a style=\"color: rgb(183,225,117)\">Z = -0.33</a>\n"
      ],
      "text/plain": [
       "<IPython.core.display.HTML object>"
      ]
     },
     "metadata": {},
     "output_type": "display_data"
    },
    {
     "data": {
      "text/html": [
       "Executing test <i>Another Test</i> on model <i>Izhikevich_0</i>... "
      ],
      "text/plain": [
       "<IPython.core.display.HTML object>"
      ]
     },
     "metadata": {},
     "output_type": "display_data"
    },
    {
     "data": {
      "text/html": [
       "Score is <a style=\"color: rgb(223,242,147)\">Z = 0.50</a>\n"
      ],
      "text/plain": [
       "<IPython.core.display.HTML object>"
      ]
     },
     "metadata": {},
     "output_type": "display_data"
    },
    {
     "data": {
      "text/html": [
       "Executing test <i>Another Test 2</i> on model <i>Izhikevich_0</i>... "
      ],
      "text/plain": [
       "<IPython.core.display.HTML object>"
      ]
     },
     "metadata": {},
     "output_type": "display_data"
    },
    {
     "data": {
      "text/html": [
       "Score is <a style=\"color: rgb(247,252,180)\">Z = 0.62</a>\n"
      ],
      "text/plain": [
       "<IPython.core.display.HTML object>"
      ]
     },
     "metadata": {},
     "output_type": "display_data"
    },
    {
     "data": {
      "text/html": [
       "Executing test <i>TestFromJupyterNotebook</i> on model <i>Izhikevich_another_test</i>... "
      ],
      "text/plain": [
       "<IPython.core.display.HTML object>"
      ]
     },
     "metadata": {},
     "output_type": "display_data"
    },
    {
     "data": {
      "text/html": [
       "Score is <a style=\"color: rgb(60,169,88)\">Z = 0.00</a>\n"
      ],
      "text/plain": [
       "<IPython.core.display.HTML object>"
      ]
     },
     "metadata": {},
     "output_type": "display_data"
    },
    {
     "data": {
      "text/html": [
       "Executing test <i>Another Test</i> on model <i>Izhikevich_another_test</i>... "
      ],
      "text/plain": [
       "<IPython.core.display.HTML object>"
      ]
     },
     "metadata": {},
     "output_type": "display_data"
    },
    {
     "data": {
      "text/html": [
       "Score is <a style=\"color: rgb(247,252,180)\">Z = 0.62</a>\n"
      ],
      "text/plain": [
       "<IPython.core.display.HTML object>"
      ]
     },
     "metadata": {},
     "output_type": "display_data"
    },
    {
     "data": {
      "text/html": [
       "Executing test <i>Another Test 2</i> on model <i>Izhikevich_another_test</i>... "
      ],
      "text/plain": [
       "<IPython.core.display.HTML object>"
      ]
     },
     "metadata": {},
     "output_type": "display_data"
    },
    {
     "data": {
      "text/html": [
       "Score is <a style=\"color: rgb(255,245,174)\">Z = 0.75</a>\n"
      ],
      "text/plain": [
       "<IPython.core.display.HTML object>"
      ]
     },
     "metadata": {},
     "output_type": "display_data"
    },
    {
     "data": {
      "text/html": [
       "Executing test <i>TestFromJupyterNotebook</i> on model <i>Izhikevich_2</i>... "
      ],
      "text/plain": [
       "<IPython.core.display.HTML object>"
      ]
     },
     "metadata": {},
     "output_type": "display_data"
    },
    {
     "data": {
      "text/html": [
       "Score is <a style=\"color: rgb(183,225,117)\">Z = -0.33</a>\n"
      ],
      "text/plain": [
       "<IPython.core.display.HTML object>"
      ]
     },
     "metadata": {},
     "output_type": "display_data"
    },
    {
     "data": {
      "text/html": [
       "Executing test <i>Another Test</i> on model <i>Izhikevich_2</i>... "
      ],
      "text/plain": [
       "<IPython.core.display.HTML object>"
      ]
     },
     "metadata": {},
     "output_type": "display_data"
    },
    {
     "data": {
      "text/html": [
       "Score is <a style=\"color: rgb(223,242,147)\">Z = 0.50</a>\n"
      ],
      "text/plain": [
       "<IPython.core.display.HTML object>"
      ]
     },
     "metadata": {},
     "output_type": "display_data"
    },
    {
     "data": {
      "text/html": [
       "Executing test <i>Another Test 2</i> on model <i>Izhikevich_2</i>... "
      ],
      "text/plain": [
       "<IPython.core.display.HTML object>"
      ]
     },
     "metadata": {},
     "output_type": "display_data"
    },
    {
     "data": {
      "text/html": [
       "Score is <a style=\"color: rgb(247,252,180)\">Z = 0.62</a>\n"
      ],
      "text/plain": [
       "<IPython.core.display.HTML object>"
      ]
     },
     "metadata": {},
     "output_type": "display_data"
    },
    {
     "data": {
      "text/html": [
       "Executing test <i>TestFromJupyterNotebook</i> on model <i>Izhikevich_3</i>... "
      ],
      "text/plain": [
       "<IPython.core.display.HTML object>"
      ]
     },
     "metadata": {},
     "output_type": "display_data"
    },
    {
     "data": {
      "text/html": [
       "Score is <a style=\"color: rgb(183,225,117)\">Z = -0.33</a>\n"
      ],
      "text/plain": [
       "<IPython.core.display.HTML object>"
      ]
     },
     "metadata": {},
     "output_type": "display_data"
    },
    {
     "data": {
      "text/html": [
       "Executing test <i>Another Test</i> on model <i>Izhikevich_3</i>... "
      ],
      "text/plain": [
       "<IPython.core.display.HTML object>"
      ]
     },
     "metadata": {},
     "output_type": "display_data"
    },
    {
     "data": {
      "text/html": [
       "Score is <a style=\"color: rgb(223,242,147)\">Z = 0.50</a>\n"
      ],
      "text/plain": [
       "<IPython.core.display.HTML object>"
      ]
     },
     "metadata": {},
     "output_type": "display_data"
    },
    {
     "data": {
      "text/html": [
       "Executing test <i>Another Test 2</i> on model <i>Izhikevich_3</i>... "
      ],
      "text/plain": [
       "<IPython.core.display.HTML object>"
      ]
     },
     "metadata": {},
     "output_type": "display_data"
    },
    {
     "data": {
      "text/html": [
       "Score is <a style=\"color: rgb(247,252,180)\">Z = 0.62</a>\n"
      ],
      "text/plain": [
       "<IPython.core.display.HTML object>"
      ]
     },
     "metadata": {},
     "output_type": "display_data"
    },
    {
     "data": {
      "text/html": [
       "Executing test <i>TestFromJupyterNotebook</i> on model <i>Izhikevich_4</i>... "
      ],
      "text/plain": [
       "<IPython.core.display.HTML object>"
      ]
     },
     "metadata": {},
     "output_type": "display_data"
    },
    {
     "data": {
      "text/html": [
       "Score is <a style=\"color: rgb(183,225,117)\">Z = -0.33</a>\n"
      ],
      "text/plain": [
       "<IPython.core.display.HTML object>"
      ]
     },
     "metadata": {},
     "output_type": "display_data"
    },
    {
     "data": {
      "text/html": [
       "Executing test <i>Another Test</i> on model <i>Izhikevich_4</i>... "
      ],
      "text/plain": [
       "<IPython.core.display.HTML object>"
      ]
     },
     "metadata": {},
     "output_type": "display_data"
    },
    {
     "data": {
      "text/html": [
       "Score is <a style=\"color: rgb(223,242,147)\">Z = 0.50</a>\n"
      ],
      "text/plain": [
       "<IPython.core.display.HTML object>"
      ]
     },
     "metadata": {},
     "output_type": "display_data"
    },
    {
     "data": {
      "text/html": [
       "Executing test <i>Another Test 2</i> on model <i>Izhikevich_4</i>... "
      ],
      "text/plain": [
       "<IPython.core.display.HTML object>"
      ]
     },
     "metadata": {},
     "output_type": "display_data"
    },
    {
     "data": {
      "text/html": [
       "Score is <a style=\"color: rgb(247,252,180)\">Z = 0.62</a>\n"
      ],
      "text/plain": [
       "<IPython.core.display.HTML object>"
      ]
     },
     "metadata": {},
     "output_type": "display_data"
    },
    {
     "name": "stdout",
     "output_type": "stream",
     "text": [
      "CPU times: user 367 ms, sys: 63.5 ms, total: 431 ms\n",
      "Wall time: 410 ms\n"
     ]
    }
   ],
   "source": [
    "%time score_matrix = suite.judge(models)"
   ]
  },
  {
   "cell_type": "code",
   "execution_count": 20,
   "metadata": {},
   "outputs": [
    {
     "name": "stdout",
     "output_type": "stream",
     "text": [
      "CPU times: user 1.14 s, sys: 641 ms, total: 1.78 s\n",
      "Wall time: 2.63 s\n"
     ]
    },
    {
     "data": {
      "text/plain": [
       "{'scores': [[{'score': -0.3333333333333333,\n",
       "    'related_data': {},\n",
       "    'unpicklable': [],\n",
       "    'model': {'name': 'Izhikevich_0',\n",
       "     'attrs': {},\n",
       "     'run_params': {},\n",
       "     'backend': 'jNeuroML',\n",
       "     'hash': 'ce4dc390522629be97af1e9c06e4371a0b545cb70aa58e218030ddf2',\n",
       "     'capabilities': ['Runnable',\n",
       "      'ReceivesCurrent',\n",
       "      'ReceivesSquareCurrent',\n",
       "      'ProducesActionPotentials',\n",
       "      'ProducesSpikes',\n",
       "      'ProducesMembranePotential'],\n",
       "     'url': 'https://github.com/scidash/neuronunit/blob/master/neuronunit/models/NeuroML2/LEMS_2007One.xml',\n",
       "     'remote_url': 'http://github.com/scidash/neuronunit.git',\n",
       "     'version': '8b85b8e53b136e112a3001c5317bed2ff22f458a',\n",
       "     '_id': 4698557688,\n",
       "     '_class': {'name': 'ReducedModel',\n",
       "      'url': 'https://github.com/scidash/neuronunit/blob/master/neuronunit/models/NeuroML2/LEMS_2007One.xml'}},\n",
       "    'test': {'name': 'TestFromJupyterNotebook',\n",
       "     'description': None,\n",
       "     'verbose': 1,\n",
       "     'observation': {'mean': 8,\n",
       "      'std': 3,\n",
       "      'url': 'http://somewhereelse.thathasdata.com'},\n",
       "     'unpicklable': [],\n",
       "     'hash': 'd5ea8ad7d24c391af598b4dc3f49cfb5d6dec2403f36ffdb9459d222',\n",
       "     'remote_url': None,\n",
       "     'version': None,\n",
       "     '_id': 4842193304,\n",
       "     '_class': {'name': 'TestFromJupyterNotebook',\n",
       "      'url': 'http://testurl.data.com'}},\n",
       "    'prediction': 7,\n",
       "    'observation': {'mean': 8,\n",
       "     'std': 3,\n",
       "     'url': 'http://somewhereelse.thathasdata.com'},\n",
       "    'hash': '02412faaf478ad42e861be53d786215b4af3f6353f4d5a63730774bc',\n",
       "    'url': 'http://github.com/scidash/sciunit.git',\n",
       "    'raw': '-0.3333',\n",
       "    'remote_url': 'http://github.com/scidash/sciunit.git',\n",
       "    'score_type': 'ZScore',\n",
       "    'summary': \"=== Model Izhikevich_0 achieved score Z = -0.33 on test 'TestFromJupyterNotebook'. ===\",\n",
       "    'version': '84ef7e368746a36cc2b0372198e0354221904cc0',\n",
       "    '_id': 4841979800,\n",
       "    'sort_key': 0.7388826803635273,\n",
       "    '_class': {'name': 'ZScore',\n",
       "     'url': 'http://github.com/scidash/sciunit.git'}},\n",
       "   {'score': 0.5,\n",
       "    'related_data': {},\n",
       "    'unpicklable': [],\n",
       "    'model': {'name': 'Izhikevich_0',\n",
       "     'attrs': {},\n",
       "     'run_params': {},\n",
       "     'backend': 'jNeuroML',\n",
       "     'hash': 'ce4dc390522629be97af1e9c06e4371a0b545cb70aa58e218030ddf2',\n",
       "     'capabilities': ['Runnable',\n",
       "      'ReceivesCurrent',\n",
       "      'ReceivesSquareCurrent',\n",
       "      'ProducesActionPotentials',\n",
       "      'ProducesSpikes',\n",
       "      'ProducesMembranePotential'],\n",
       "     'url': 'https://github.com/scidash/neuronunit/blob/master/neuronunit/models/NeuroML2/LEMS_2007One.xml',\n",
       "     'remote_url': 'http://github.com/scidash/neuronunit.git',\n",
       "     'version': '8b85b8e53b136e112a3001c5317bed2ff22f458a',\n",
       "     '_id': 4698557688,\n",
       "     '_class': {'name': 'ReducedModel',\n",
       "      'url': 'https://github.com/scidash/neuronunit/blob/master/neuronunit/models/NeuroML2/LEMS_2007One.xml'}},\n",
       "    'test': {'name': 'Another Test',\n",
       "     'description': None,\n",
       "     'verbose': 1,\n",
       "     'observation': {'mean': 3,\n",
       "      'std': 8,\n",
       "      'url': 'http://somewhereelse0.thathasdata.com'},\n",
       "     'unpicklable': [],\n",
       "     'hash': 'a47279f06afb6907a8c8daf5028923e89d4bd0455286cea268425f74',\n",
       "     'remote_url': None,\n",
       "     'version': None,\n",
       "     '_id': 4947053648,\n",
       "     '_class': {'name': 'TestFromJupyterNotebook',\n",
       "      'url': 'http://testurl.data.com'}},\n",
       "    'prediction': 7,\n",
       "    'observation': {'mean': 3,\n",
       "     'std': 8,\n",
       "     'url': 'http://somewhereelse0.thathasdata.com'},\n",
       "    'hash': '629bac07ac431aa602a1a766046e171d25a07d35f7c37c0fbc7bab37',\n",
       "    'url': 'http://github.com/scidash/sciunit.git',\n",
       "    'raw': '0.5',\n",
       "    'remote_url': 'http://github.com/scidash/sciunit.git',\n",
       "    'score_type': 'ZScore',\n",
       "    'summary': \"=== Model Izhikevich_0 achieved score Z = 0.50 on test 'Another Test'. ===\",\n",
       "    'version': '84ef7e368746a36cc2b0372198e0354221904cc0',\n",
       "    '_id': 4946469216,\n",
       "    'sort_key': 0.6170750774519738,\n",
       "    '_class': {'name': 'ZScore',\n",
       "     'url': 'http://github.com/scidash/sciunit.git'}},\n",
       "   {'score': 0.625,\n",
       "    'related_data': {},\n",
       "    'unpicklable': [],\n",
       "    'model': {'name': 'Izhikevich_0',\n",
       "     'attrs': {},\n",
       "     'run_params': {},\n",
       "     'backend': 'jNeuroML',\n",
       "     'hash': 'ce4dc390522629be97af1e9c06e4371a0b545cb70aa58e218030ddf2',\n",
       "     'capabilities': ['Runnable',\n",
       "      'ReceivesCurrent',\n",
       "      'ReceivesSquareCurrent',\n",
       "      'ProducesActionPotentials',\n",
       "      'ProducesSpikes',\n",
       "      'ProducesMembranePotential'],\n",
       "     'url': 'https://github.com/scidash/neuronunit/blob/master/neuronunit/models/NeuroML2/LEMS_2007One.xml',\n",
       "     'remote_url': 'http://github.com/scidash/neuronunit.git',\n",
       "     'version': '8b85b8e53b136e112a3001c5317bed2ff22f458a',\n",
       "     '_id': 4698557688,\n",
       "     '_class': {'name': 'ReducedModel',\n",
       "      'url': 'https://github.com/scidash/neuronunit/blob/master/neuronunit/models/NeuroML2/LEMS_2007One.xml'}},\n",
       "    'test': {'name': 'Another Test 2',\n",
       "     'description': None,\n",
       "     'verbose': 1,\n",
       "     'observation': {'mean': 2,\n",
       "      'std': 8,\n",
       "      'url': 'http://somewhereelse1.thathasdata.com'},\n",
       "     'unpicklable': [],\n",
       "     'hash': 'eaf1dc52976a9fcc7e8d21cd59ac8e75a9cdf73d59da71f2ac5d4139',\n",
       "     'remote_url': None,\n",
       "     'version': None,\n",
       "     '_id': 4947053592,\n",
       "     '_class': {'name': 'TestFromJupyterNotebook',\n",
       "      'url': 'http://testurl.data.com'}},\n",
       "    'prediction': 7,\n",
       "    'observation': {'mean': 2,\n",
       "     'std': 8,\n",
       "     'url': 'http://somewhereelse1.thathasdata.com'},\n",
       "    'hash': 'a3ad7e3caabe725ec47b5e137c0cc0b9456d53c304faa13b714e1698',\n",
       "    'url': 'http://github.com/scidash/sciunit.git',\n",
       "    'raw': '0.625',\n",
       "    'remote_url': 'http://github.com/scidash/sciunit.git',\n",
       "    'score_type': 'ZScore',\n",
       "    'summary': \"=== Model Izhikevich_0 achieved score Z = 0.62 on test 'Another Test 2'. ===\",\n",
       "    'version': '84ef7e368746a36cc2b0372198e0354221904cc0',\n",
       "    '_id': 4946472520,\n",
       "    'sort_key': 0.5319710580974011,\n",
       "    '_class': {'name': 'ZScore',\n",
       "     'url': 'http://github.com/scidash/sciunit.git'}}],\n",
       "  [{'score': 0.0,\n",
       "    'related_data': {},\n",
       "    'unpicklable': [],\n",
       "    'model': {'name': 'Izhikevich_another_test',\n",
       "     'attrs': {'izhikevich2007Cell': {'a': '0.04 per_ms'}},\n",
       "     'run_params': {},\n",
       "     'backend': 'jNeuroML',\n",
       "     'hash': 'b086fb5512bc8fb7ba7bac528a98466bf4e782f78ec369da883bb0c8',\n",
       "     'capabilities': ['Runnable',\n",
       "      'ReceivesCurrent',\n",
       "      'ReceivesSquareCurrent',\n",
       "      'ProducesActionPotentials',\n",
       "      'ProducesSpikes',\n",
       "      'ProducesMembranePotential'],\n",
       "     'url': 'https://github.com/scidash/neuronunit/blob/master/neuronunit/models/NeuroML2/LEMS_2007One.xml',\n",
       "     'remote_url': 'http://github.com/scidash/neuronunit.git',\n",
       "     'version': '8b85b8e53b136e112a3001c5317bed2ff22f458a',\n",
       "     '_id': 4698557296,\n",
       "     '_class': {'name': 'ReducedModel',\n",
       "      'url': 'https://github.com/scidash/neuronunit/blob/master/neuronunit/models/NeuroML2/LEMS_2007One.xml'}},\n",
       "    'test': {'name': 'TestFromJupyterNotebook',\n",
       "     'description': None,\n",
       "     'verbose': 1,\n",
       "     'observation': {'mean': 8,\n",
       "      'std': 3,\n",
       "      'url': 'http://somewhereelse.thathasdata.com'},\n",
       "     'unpicklable': [],\n",
       "     'hash': 'd5ea8ad7d24c391af598b4dc3f49cfb5d6dec2403f36ffdb9459d222',\n",
       "     'remote_url': None,\n",
       "     'version': None,\n",
       "     '_id': 4842193304,\n",
       "     '_class': {'name': 'TestFromJupyterNotebook',\n",
       "      'url': 'http://testurl.data.com'}},\n",
       "    'prediction': 8,\n",
       "    'observation': {'mean': 8,\n",
       "     'std': 3,\n",
       "     'url': 'http://somewhereelse.thathasdata.com'},\n",
       "    'hash': '05195d51ec8c413a5edecab8c22022c35bb1fd2995e09acb4416d06e',\n",
       "    'url': 'http://github.com/scidash/sciunit.git',\n",
       "    'raw': '0',\n",
       "    'remote_url': 'http://github.com/scidash/sciunit.git',\n",
       "    'score_type': 'ZScore',\n",
       "    'summary': \"=== Model Izhikevich_another_test achieved score Z = 0.00 on test 'TestFromJupyterNotebook'. ===\",\n",
       "    'version': '84ef7e368746a36cc2b0372198e0354221904cc0',\n",
       "    '_id': 4946471680,\n",
       "    'sort_key': 1.0,\n",
       "    '_class': {'name': 'ZScore',\n",
       "     'url': 'http://github.com/scidash/sciunit.git'}},\n",
       "   {'score': 0.625,\n",
       "    'related_data': {},\n",
       "    'unpicklable': [],\n",
       "    'model': {'name': 'Izhikevich_another_test',\n",
       "     'attrs': {'izhikevich2007Cell': {'a': '0.04 per_ms'}},\n",
       "     'run_params': {},\n",
       "     'backend': 'jNeuroML',\n",
       "     'hash': 'b086fb5512bc8fb7ba7bac528a98466bf4e782f78ec369da883bb0c8',\n",
       "     'capabilities': ['Runnable',\n",
       "      'ReceivesCurrent',\n",
       "      'ReceivesSquareCurrent',\n",
       "      'ProducesActionPotentials',\n",
       "      'ProducesSpikes',\n",
       "      'ProducesMembranePotential'],\n",
       "     'url': 'https://github.com/scidash/neuronunit/blob/master/neuronunit/models/NeuroML2/LEMS_2007One.xml',\n",
       "     'remote_url': 'http://github.com/scidash/neuronunit.git',\n",
       "     'version': '8b85b8e53b136e112a3001c5317bed2ff22f458a',\n",
       "     '_id': 4698557296,\n",
       "     '_class': {'name': 'ReducedModel',\n",
       "      'url': 'https://github.com/scidash/neuronunit/blob/master/neuronunit/models/NeuroML2/LEMS_2007One.xml'}},\n",
       "    'test': {'name': 'Another Test',\n",
       "     'description': None,\n",
       "     'verbose': 1,\n",
       "     'observation': {'mean': 3,\n",
       "      'std': 8,\n",
       "      'url': 'http://somewhereelse0.thathasdata.com'},\n",
       "     'unpicklable': [],\n",
       "     'hash': 'a47279f06afb6907a8c8daf5028923e89d4bd0455286cea268425f74',\n",
       "     'remote_url': None,\n",
       "     'version': None,\n",
       "     '_id': 4947053648,\n",
       "     '_class': {'name': 'TestFromJupyterNotebook',\n",
       "      'url': 'http://testurl.data.com'}},\n",
       "    'prediction': 8,\n",
       "    'observation': {'mean': 3,\n",
       "     'std': 8,\n",
       "     'url': 'http://somewhereelse0.thathasdata.com'},\n",
       "    'hash': '47239103440c5229aed63c70bbbcd04ce9a551a84b055c90e73a3014',\n",
       "    'url': 'http://github.com/scidash/sciunit.git',\n",
       "    'raw': '0.625',\n",
       "    'remote_url': 'http://github.com/scidash/sciunit.git',\n",
       "    'score_type': 'ZScore',\n",
       "    'summary': \"=== Model Izhikevich_another_test achieved score Z = 0.62 on test 'Another Test'. ===\",\n",
       "    'version': '84ef7e368746a36cc2b0372198e0354221904cc0',\n",
       "    '_id': 4946471008,\n",
       "    'sort_key': 0.5319710580974011,\n",
       "    '_class': {'name': 'ZScore',\n",
       "     'url': 'http://github.com/scidash/sciunit.git'}},\n",
       "   {'score': 0.75,\n",
       "    'related_data': {},\n",
       "    'unpicklable': [],\n",
       "    'model': {'name': 'Izhikevich_another_test',\n",
       "     'attrs': {'izhikevich2007Cell': {'a': '0.04 per_ms'}},\n",
       "     'run_params': {},\n",
       "     'backend': 'jNeuroML',\n",
       "     'hash': 'b086fb5512bc8fb7ba7bac528a98466bf4e782f78ec369da883bb0c8',\n",
       "     'capabilities': ['Runnable',\n",
       "      'ReceivesCurrent',\n",
       "      'ReceivesSquareCurrent',\n",
       "      'ProducesActionPotentials',\n",
       "      'ProducesSpikes',\n",
       "      'ProducesMembranePotential'],\n",
       "     'url': 'https://github.com/scidash/neuronunit/blob/master/neuronunit/models/NeuroML2/LEMS_2007One.xml',\n",
       "     'remote_url': 'http://github.com/scidash/neuronunit.git',\n",
       "     'version': '8b85b8e53b136e112a3001c5317bed2ff22f458a',\n",
       "     '_id': 4698557296,\n",
       "     '_class': {'name': 'ReducedModel',\n",
       "      'url': 'https://github.com/scidash/neuronunit/blob/master/neuronunit/models/NeuroML2/LEMS_2007One.xml'}},\n",
       "    'test': {'name': 'Another Test 2',\n",
       "     'description': None,\n",
       "     'verbose': 1,\n",
       "     'observation': {'mean': 2,\n",
       "      'std': 8,\n",
       "      'url': 'http://somewhereelse1.thathasdata.com'},\n",
       "     'unpicklable': [],\n",
       "     'hash': 'eaf1dc52976a9fcc7e8d21cd59ac8e75a9cdf73d59da71f2ac5d4139',\n",
       "     'remote_url': None,\n",
       "     'version': None,\n",
       "     '_id': 4947053592,\n",
       "     '_class': {'name': 'TestFromJupyterNotebook',\n",
       "      'url': 'http://testurl.data.com'}},\n",
       "    'prediction': 8,\n",
       "    'observation': {'mean': 2,\n",
       "     'std': 8,\n",
       "     'url': 'http://somewhereelse1.thathasdata.com'},\n",
       "    'hash': '22b735a8ce3b1f709c35745dc89bc3c625bc7df70ccec4a97922a7e1',\n",
       "    'url': 'http://github.com/scidash/sciunit.git',\n",
       "    'raw': '0.75',\n",
       "    'remote_url': 'http://github.com/scidash/sciunit.git',\n",
       "    'score_type': 'ZScore',\n",
       "    'summary': \"=== Model Izhikevich_another_test achieved score Z = 0.75 on test 'Another Test 2'. ===\",\n",
       "    'version': '84ef7e368746a36cc2b0372198e0354221904cc0',\n",
       "    '_id': 4946472296,\n",
       "    'sort_key': 0.4532547047537365,\n",
       "    '_class': {'name': 'ZScore',\n",
       "     'url': 'http://github.com/scidash/sciunit.git'}}],\n",
       "  [{'score': -0.3333333333333333,\n",
       "    'related_data': {},\n",
       "    'unpicklable': [],\n",
       "    'model': {'name': 'Izhikevich_2',\n",
       "     'attrs': {},\n",
       "     'run_params': {},\n",
       "     'backend': 'jNeuroML',\n",
       "     'hash': 'a9f19a85e4d04fd344cee13a97a123933ae8ad45baeecb1f7d3cba22',\n",
       "     'capabilities': ['Runnable',\n",
       "      'ReceivesCurrent',\n",
       "      'ReceivesSquareCurrent',\n",
       "      'ProducesActionPotentials',\n",
       "      'ProducesSpikes',\n",
       "      'ProducesMembranePotential'],\n",
       "     'url': 'https://github.com/scidash/neuronunit/blob/master/neuronunit/models/NeuroML2/LEMS_2007One.xml',\n",
       "     'remote_url': 'http://github.com/scidash/neuronunit.git',\n",
       "     'version': '8b85b8e53b136e112a3001c5317bed2ff22f458a',\n",
       "     '_id': 4698555168,\n",
       "     '_class': {'name': 'ReducedModel',\n",
       "      'url': 'https://github.com/scidash/neuronunit/blob/master/neuronunit/models/NeuroML2/LEMS_2007One.xml'}},\n",
       "    'test': {'name': 'TestFromJupyterNotebook',\n",
       "     'description': None,\n",
       "     'verbose': 1,\n",
       "     'observation': {'mean': 8,\n",
       "      'std': 3,\n",
       "      'url': 'http://somewhereelse.thathasdata.com'},\n",
       "     'unpicklable': [],\n",
       "     'hash': 'd5ea8ad7d24c391af598b4dc3f49cfb5d6dec2403f36ffdb9459d222',\n",
       "     'remote_url': None,\n",
       "     'version': None,\n",
       "     '_id': 4842193304,\n",
       "     '_class': {'name': 'TestFromJupyterNotebook',\n",
       "      'url': 'http://testurl.data.com'}},\n",
       "    'prediction': 7,\n",
       "    'observation': {'mean': 8,\n",
       "     'std': 3,\n",
       "     'url': 'http://somewhereelse.thathasdata.com'},\n",
       "    'hash': '3d088bcb10850601ed6bc2f547e3f67a4f8381818ec71c1e05eec271',\n",
       "    'url': 'http://github.com/scidash/sciunit.git',\n",
       "    'raw': '-0.3333',\n",
       "    'remote_url': 'http://github.com/scidash/sciunit.git',\n",
       "    'score_type': 'ZScore',\n",
       "    'summary': \"=== Model Izhikevich_2 achieved score Z = -0.33 on test 'TestFromJupyterNotebook'. ===\",\n",
       "    'version': '84ef7e368746a36cc2b0372198e0354221904cc0',\n",
       "    '_id': 4946471792,\n",
       "    'sort_key': 0.7388826803635273,\n",
       "    '_class': {'name': 'ZScore',\n",
       "     'url': 'http://github.com/scidash/sciunit.git'}},\n",
       "   {'score': 0.5,\n",
       "    'related_data': {},\n",
       "    'unpicklable': [],\n",
       "    'model': {'name': 'Izhikevich_2',\n",
       "     'attrs': {},\n",
       "     'run_params': {},\n",
       "     'backend': 'jNeuroML',\n",
       "     'hash': 'a9f19a85e4d04fd344cee13a97a123933ae8ad45baeecb1f7d3cba22',\n",
       "     'capabilities': ['Runnable',\n",
       "      'ReceivesCurrent',\n",
       "      'ReceivesSquareCurrent',\n",
       "      'ProducesActionPotentials',\n",
       "      'ProducesSpikes',\n",
       "      'ProducesMembranePotential'],\n",
       "     'url': 'https://github.com/scidash/neuronunit/blob/master/neuronunit/models/NeuroML2/LEMS_2007One.xml',\n",
       "     'remote_url': 'http://github.com/scidash/neuronunit.git',\n",
       "     'version': '8b85b8e53b136e112a3001c5317bed2ff22f458a',\n",
       "     '_id': 4698555168,\n",
       "     '_class': {'name': 'ReducedModel',\n",
       "      'url': 'https://github.com/scidash/neuronunit/blob/master/neuronunit/models/NeuroML2/LEMS_2007One.xml'}},\n",
       "    'test': {'name': 'Another Test',\n",
       "     'description': None,\n",
       "     'verbose': 1,\n",
       "     'observation': {'mean': 3,\n",
       "      'std': 8,\n",
       "      'url': 'http://somewhereelse0.thathasdata.com'},\n",
       "     'unpicklable': [],\n",
       "     'hash': 'a47279f06afb6907a8c8daf5028923e89d4bd0455286cea268425f74',\n",
       "     'remote_url': None,\n",
       "     'version': None,\n",
       "     '_id': 4947053648,\n",
       "     '_class': {'name': 'TestFromJupyterNotebook',\n",
       "      'url': 'http://testurl.data.com'}},\n",
       "    'prediction': 7,\n",
       "    'observation': {'mean': 3,\n",
       "     'std': 8,\n",
       "     'url': 'http://somewhereelse0.thathasdata.com'},\n",
       "    'hash': '93767be3161ae5654571d6b6c7cd487e51c956a002560ca166d9a12c',\n",
       "    'url': 'http://github.com/scidash/sciunit.git',\n",
       "    'raw': '0.5',\n",
       "    'remote_url': 'http://github.com/scidash/sciunit.git',\n",
       "    'score_type': 'ZScore',\n",
       "    'summary': \"=== Model Izhikevich_2 achieved score Z = 0.50 on test 'Another Test'. ===\",\n",
       "    'version': '84ef7e368746a36cc2b0372198e0354221904cc0',\n",
       "    '_id': 4946471288,\n",
       "    'sort_key': 0.6170750774519738,\n",
       "    '_class': {'name': 'ZScore',\n",
       "     'url': 'http://github.com/scidash/sciunit.git'}},\n",
       "   {'score': 0.625,\n",
       "    'related_data': {},\n",
       "    'unpicklable': [],\n",
       "    'model': {'name': 'Izhikevich_2',\n",
       "     'attrs': {},\n",
       "     'run_params': {},\n",
       "     'backend': 'jNeuroML',\n",
       "     'hash': 'a9f19a85e4d04fd344cee13a97a123933ae8ad45baeecb1f7d3cba22',\n",
       "     'capabilities': ['Runnable',\n",
       "      'ReceivesCurrent',\n",
       "      'ReceivesSquareCurrent',\n",
       "      'ProducesActionPotentials',\n",
       "      'ProducesSpikes',\n",
       "      'ProducesMembranePotential'],\n",
       "     'url': 'https://github.com/scidash/neuronunit/blob/master/neuronunit/models/NeuroML2/LEMS_2007One.xml',\n",
       "     'remote_url': 'http://github.com/scidash/neuronunit.git',\n",
       "     'version': '8b85b8e53b136e112a3001c5317bed2ff22f458a',\n",
       "     '_id': 4698555168,\n",
       "     '_class': {'name': 'ReducedModel',\n",
       "      'url': 'https://github.com/scidash/neuronunit/blob/master/neuronunit/models/NeuroML2/LEMS_2007One.xml'}},\n",
       "    'test': {'name': 'Another Test 2',\n",
       "     'description': None,\n",
       "     'verbose': 1,\n",
       "     'observation': {'mean': 2,\n",
       "      'std': 8,\n",
       "      'url': 'http://somewhereelse1.thathasdata.com'},\n",
       "     'unpicklable': [],\n",
       "     'hash': 'eaf1dc52976a9fcc7e8d21cd59ac8e75a9cdf73d59da71f2ac5d4139',\n",
       "     'remote_url': None,\n",
       "     'version': None,\n",
       "     '_id': 4947053592,\n",
       "     '_class': {'name': 'TestFromJupyterNotebook',\n",
       "      'url': 'http://testurl.data.com'}},\n",
       "    'prediction': 7,\n",
       "    'observation': {'mean': 2,\n",
       "     'std': 8,\n",
       "     'url': 'http://somewhereelse1.thathasdata.com'},\n",
       "    'hash': '0adb8d857787d8269f6cd8ca1619c926ade02251a1ad0efa854d504f',\n",
       "    'url': 'http://github.com/scidash/sciunit.git',\n",
       "    'raw': '0.625',\n",
       "    'remote_url': 'http://github.com/scidash/sciunit.git',\n",
       "    'score_type': 'ZScore',\n",
       "    'summary': \"=== Model Izhikevich_2 achieved score Z = 0.62 on test 'Another Test 2'. ===\",\n",
       "    'version': '84ef7e368746a36cc2b0372198e0354221904cc0',\n",
       "    '_id': 4946472912,\n",
       "    'sort_key': 0.5319710580974011,\n",
       "    '_class': {'name': 'ZScore',\n",
       "     'url': 'http://github.com/scidash/sciunit.git'}}],\n",
       "  [{'score': -0.3333333333333333,\n",
       "    'related_data': {},\n",
       "    'unpicklable': [],\n",
       "    'model': {'name': 'Izhikevich_3',\n",
       "     'attrs': {},\n",
       "     'run_params': {},\n",
       "     'backend': 'jNeuroML',\n",
       "     'hash': 'ca2806148de0484a70a681111881a10b34fb7d5bb8da6f5cae29fd93',\n",
       "     'capabilities': ['Runnable',\n",
       "      'ReceivesCurrent',\n",
       "      'ReceivesSquareCurrent',\n",
       "      'ProducesActionPotentials',\n",
       "      'ProducesSpikes',\n",
       "      'ProducesMembranePotential'],\n",
       "     'url': 'https://github.com/scidash/neuronunit/blob/master/neuronunit/models/NeuroML2/LEMS_2007One.xml',\n",
       "     'remote_url': 'http://github.com/scidash/neuronunit.git',\n",
       "     'version': '8b85b8e53b136e112a3001c5317bed2ff22f458a',\n",
       "     '_id': 4698555336,\n",
       "     '_class': {'name': 'ReducedModel',\n",
       "      'url': 'https://github.com/scidash/neuronunit/blob/master/neuronunit/models/NeuroML2/LEMS_2007One.xml'}},\n",
       "    'test': {'name': 'TestFromJupyterNotebook',\n",
       "     'description': None,\n",
       "     'verbose': 1,\n",
       "     'observation': {'mean': 8,\n",
       "      'std': 3,\n",
       "      'url': 'http://somewhereelse.thathasdata.com'},\n",
       "     'unpicklable': [],\n",
       "     'hash': 'd5ea8ad7d24c391af598b4dc3f49cfb5d6dec2403f36ffdb9459d222',\n",
       "     'remote_url': None,\n",
       "     'version': None,\n",
       "     '_id': 4842193304,\n",
       "     '_class': {'name': 'TestFromJupyterNotebook',\n",
       "      'url': 'http://testurl.data.com'}},\n",
       "    'prediction': 7,\n",
       "    'observation': {'mean': 8,\n",
       "     'std': 3,\n",
       "     'url': 'http://somewhereelse.thathasdata.com'},\n",
       "    'hash': 'ff56a906819d346aa27ef4a0a1f8d79652ac24971ab598886fe98298',\n",
       "    'url': 'http://github.com/scidash/sciunit.git',\n",
       "    'raw': '-0.3333',\n",
       "    'remote_url': 'http://github.com/scidash/sciunit.git',\n",
       "    'score_type': 'ZScore',\n",
       "    'summary': \"=== Model Izhikevich_3 achieved score Z = -0.33 on test 'TestFromJupyterNotebook'. ===\",\n",
       "    'version': '84ef7e368746a36cc2b0372198e0354221904cc0',\n",
       "    '_id': 4946472800,\n",
       "    'sort_key': 0.7388826803635273,\n",
       "    '_class': {'name': 'ZScore',\n",
       "     'url': 'http://github.com/scidash/sciunit.git'}},\n",
       "   {'score': 0.5,\n",
       "    'related_data': {},\n",
       "    'unpicklable': [],\n",
       "    'model': {'name': 'Izhikevich_3',\n",
       "     'attrs': {},\n",
       "     'run_params': {},\n",
       "     'backend': 'jNeuroML',\n",
       "     'hash': 'ca2806148de0484a70a681111881a10b34fb7d5bb8da6f5cae29fd93',\n",
       "     'capabilities': ['Runnable',\n",
       "      'ReceivesCurrent',\n",
       "      'ReceivesSquareCurrent',\n",
       "      'ProducesActionPotentials',\n",
       "      'ProducesSpikes',\n",
       "      'ProducesMembranePotential'],\n",
       "     'url': 'https://github.com/scidash/neuronunit/blob/master/neuronunit/models/NeuroML2/LEMS_2007One.xml',\n",
       "     'remote_url': 'http://github.com/scidash/neuronunit.git',\n",
       "     'version': '8b85b8e53b136e112a3001c5317bed2ff22f458a',\n",
       "     '_id': 4698555336,\n",
       "     '_class': {'name': 'ReducedModel',\n",
       "      'url': 'https://github.com/scidash/neuronunit/blob/master/neuronunit/models/NeuroML2/LEMS_2007One.xml'}},\n",
       "    'test': {'name': 'Another Test',\n",
       "     'description': None,\n",
       "     'verbose': 1,\n",
       "     'observation': {'mean': 3,\n",
       "      'std': 8,\n",
       "      'url': 'http://somewhereelse0.thathasdata.com'},\n",
       "     'unpicklable': [],\n",
       "     'hash': 'a47279f06afb6907a8c8daf5028923e89d4bd0455286cea268425f74',\n",
       "     'remote_url': None,\n",
       "     'version': None,\n",
       "     '_id': 4947053648,\n",
       "     '_class': {'name': 'TestFromJupyterNotebook',\n",
       "      'url': 'http://testurl.data.com'}},\n",
       "    'prediction': 7,\n",
       "    'observation': {'mean': 3,\n",
       "     'std': 8,\n",
       "     'url': 'http://somewhereelse0.thathasdata.com'},\n",
       "    'hash': 'f667e1d4990e788043a77fb8a6a31f6285b57749df75273902d422c1',\n",
       "    'url': 'http://github.com/scidash/sciunit.git',\n",
       "    'raw': '0.5',\n",
       "    'remote_url': 'http://github.com/scidash/sciunit.git',\n",
       "    'score_type': 'ZScore',\n",
       "    'summary': \"=== Model Izhikevich_3 achieved score Z = 0.50 on test 'Another Test'. ===\",\n",
       "    'version': '84ef7e368746a36cc2b0372198e0354221904cc0',\n",
       "    '_id': 4946471456,\n",
       "    'sort_key': 0.6170750774519738,\n",
       "    '_class': {'name': 'ZScore',\n",
       "     'url': 'http://github.com/scidash/sciunit.git'}},\n",
       "   {'score': 0.625,\n",
       "    'related_data': {},\n",
       "    'unpicklable': [],\n",
       "    'model': {'name': 'Izhikevich_3',\n",
       "     'attrs': {},\n",
       "     'run_params': {},\n",
       "     'backend': 'jNeuroML',\n",
       "     'hash': 'ca2806148de0484a70a681111881a10b34fb7d5bb8da6f5cae29fd93',\n",
       "     'capabilities': ['Runnable',\n",
       "      'ReceivesCurrent',\n",
       "      'ReceivesSquareCurrent',\n",
       "      'ProducesActionPotentials',\n",
       "      'ProducesSpikes',\n",
       "      'ProducesMembranePotential'],\n",
       "     'url': 'https://github.com/scidash/neuronunit/blob/master/neuronunit/models/NeuroML2/LEMS_2007One.xml',\n",
       "     'remote_url': 'http://github.com/scidash/neuronunit.git',\n",
       "     'version': '8b85b8e53b136e112a3001c5317bed2ff22f458a',\n",
       "     '_id': 4698555336,\n",
       "     '_class': {'name': 'ReducedModel',\n",
       "      'url': 'https://github.com/scidash/neuronunit/blob/master/neuronunit/models/NeuroML2/LEMS_2007One.xml'}},\n",
       "    'test': {'name': 'Another Test 2',\n",
       "     'description': None,\n",
       "     'verbose': 1,\n",
       "     'observation': {'mean': 2,\n",
       "      'std': 8,\n",
       "      'url': 'http://somewhereelse1.thathasdata.com'},\n",
       "     'unpicklable': [],\n",
       "     'hash': 'eaf1dc52976a9fcc7e8d21cd59ac8e75a9cdf73d59da71f2ac5d4139',\n",
       "     'remote_url': None,\n",
       "     'version': None,\n",
       "     '_id': 4947053592,\n",
       "     '_class': {'name': 'TestFromJupyterNotebook',\n",
       "      'url': 'http://testurl.data.com'}},\n",
       "    'prediction': 7,\n",
       "    'observation': {'mean': 2,\n",
       "     'std': 8,\n",
       "     'url': 'http://somewhereelse1.thathasdata.com'},\n",
       "    'hash': '7ad4557c1415e5ca80f5faf28e15261b0682878e1b563a9ca1f966f0',\n",
       "    'url': 'http://github.com/scidash/sciunit.git',\n",
       "    'raw': '0.625',\n",
       "    'remote_url': 'http://github.com/scidash/sciunit.git',\n",
       "    'score_type': 'ZScore',\n",
       "    'summary': \"=== Model Izhikevich_3 achieved score Z = 0.62 on test 'Another Test 2'. ===\",\n",
       "    'version': '84ef7e368746a36cc2b0372198e0354221904cc0',\n",
       "    '_id': 4946471344,\n",
       "    'sort_key': 0.5319710580974011,\n",
       "    '_class': {'name': 'ZScore',\n",
       "     'url': 'http://github.com/scidash/sciunit.git'}}],\n",
       "  [{'score': -0.3333333333333333,\n",
       "    'related_data': {},\n",
       "    'unpicklable': [],\n",
       "    'model': {'name': 'Izhikevich_4',\n",
       "     'attrs': {},\n",
       "     'run_params': {},\n",
       "     'backend': 'jNeuroML',\n",
       "     'hash': 'bbb644ece9e72f3a0805f8ae7d9b63e26f0debaa9247f88c7ab623b7',\n",
       "     'capabilities': ['Runnable',\n",
       "      'ReceivesCurrent',\n",
       "      'ReceivesSquareCurrent',\n",
       "      'ProducesActionPotentials',\n",
       "      'ProducesSpikes',\n",
       "      'ProducesMembranePotential'],\n",
       "     'url': 'https://github.com/scidash/neuronunit/blob/master/neuronunit/models/NeuroML2/LEMS_2007One.xml',\n",
       "     'remote_url': 'http://github.com/scidash/neuronunit.git',\n",
       "     'version': '8b85b8e53b136e112a3001c5317bed2ff22f458a',\n",
       "     '_id': 4698555504,\n",
       "     '_class': {'name': 'ReducedModel',\n",
       "      'url': 'https://github.com/scidash/neuronunit/blob/master/neuronunit/models/NeuroML2/LEMS_2007One.xml'}},\n",
       "    'test': {'name': 'TestFromJupyterNotebook',\n",
       "     'description': None,\n",
       "     'verbose': 1,\n",
       "     'observation': {'mean': 8,\n",
       "      'std': 3,\n",
       "      'url': 'http://somewhereelse.thathasdata.com'},\n",
       "     'unpicklable': [],\n",
       "     'hash': 'd5ea8ad7d24c391af598b4dc3f49cfb5d6dec2403f36ffdb9459d222',\n",
       "     'remote_url': None,\n",
       "     'version': None,\n",
       "     '_id': 4842193304,\n",
       "     '_class': {'name': 'TestFromJupyterNotebook',\n",
       "      'url': 'http://testurl.data.com'}},\n",
       "    'prediction': 7,\n",
       "    'observation': {'mean': 8,\n",
       "     'std': 3,\n",
       "     'url': 'http://somewhereelse.thathasdata.com'},\n",
       "    'hash': 'a4f8d98ed1d1ee1574d9b498c83405a50c5a1d52c9f517d8de841ea7',\n",
       "    'url': 'http://github.com/scidash/sciunit.git',\n",
       "    'raw': '-0.3333',\n",
       "    'remote_url': 'http://github.com/scidash/sciunit.git',\n",
       "    'score_type': 'ZScore',\n",
       "    'summary': \"=== Model Izhikevich_4 achieved score Z = -0.33 on test 'TestFromJupyterNotebook'. ===\",\n",
       "    'version': '84ef7e368746a36cc2b0372198e0354221904cc0',\n",
       "    '_id': 4946471400,\n",
       "    'sort_key': 0.7388826803635273,\n",
       "    '_class': {'name': 'ZScore',\n",
       "     'url': 'http://github.com/scidash/sciunit.git'}},\n",
       "   {'score': 0.5,\n",
       "    'related_data': {},\n",
       "    'unpicklable': [],\n",
       "    'model': {'name': 'Izhikevich_4',\n",
       "     'attrs': {},\n",
       "     'run_params': {},\n",
       "     'backend': 'jNeuroML',\n",
       "     'hash': 'bbb644ece9e72f3a0805f8ae7d9b63e26f0debaa9247f88c7ab623b7',\n",
       "     'capabilities': ['Runnable',\n",
       "      'ReceivesCurrent',\n",
       "      'ReceivesSquareCurrent',\n",
       "      'ProducesActionPotentials',\n",
       "      'ProducesSpikes',\n",
       "      'ProducesMembranePotential'],\n",
       "     'url': 'https://github.com/scidash/neuronunit/blob/master/neuronunit/models/NeuroML2/LEMS_2007One.xml',\n",
       "     'remote_url': 'http://github.com/scidash/neuronunit.git',\n",
       "     'version': '8b85b8e53b136e112a3001c5317bed2ff22f458a',\n",
       "     '_id': 4698555504,\n",
       "     '_class': {'name': 'ReducedModel',\n",
       "      'url': 'https://github.com/scidash/neuronunit/blob/master/neuronunit/models/NeuroML2/LEMS_2007One.xml'}},\n",
       "    'test': {'name': 'Another Test',\n",
       "     'description': None,\n",
       "     'verbose': 1,\n",
       "     'observation': {'mean': 3,\n",
       "      'std': 8,\n",
       "      'url': 'http://somewhereelse0.thathasdata.com'},\n",
       "     'unpicklable': [],\n",
       "     'hash': 'a47279f06afb6907a8c8daf5028923e89d4bd0455286cea268425f74',\n",
       "     'remote_url': None,\n",
       "     'version': None,\n",
       "     '_id': 4947053648,\n",
       "     '_class': {'name': 'TestFromJupyterNotebook',\n",
       "      'url': 'http://testurl.data.com'}},\n",
       "    'prediction': 7,\n",
       "    'observation': {'mean': 3,\n",
       "     'std': 8,\n",
       "     'url': 'http://somewhereelse0.thathasdata.com'},\n",
       "    'hash': '013d59ea8d9d71061b69bb3a6c7a31e76a0005f7511f12e3d6ee0e2f',\n",
       "    'url': 'http://github.com/scidash/sciunit.git',\n",
       "    'raw': '0.5',\n",
       "    'remote_url': 'http://github.com/scidash/sciunit.git',\n",
       "    'score_type': 'ZScore',\n",
       "    'summary': \"=== Model Izhikevich_4 achieved score Z = 0.50 on test 'Another Test'. ===\",\n",
       "    'version': '84ef7e368746a36cc2b0372198e0354221904cc0',\n",
       "    '_id': 4946472632,\n",
       "    'sort_key': 0.6170750774519738,\n",
       "    '_class': {'name': 'ZScore',\n",
       "     'url': 'http://github.com/scidash/sciunit.git'}},\n",
       "   {'score': 0.625,\n",
       "    'related_data': {},\n",
       "    'unpicklable': [],\n",
       "    'model': {'name': 'Izhikevich_4',\n",
       "     'attrs': {},\n",
       "     'run_params': {},\n",
       "     'backend': 'jNeuroML',\n",
       "     'hash': 'bbb644ece9e72f3a0805f8ae7d9b63e26f0debaa9247f88c7ab623b7',\n",
       "     'capabilities': ['Runnable',\n",
       "      'ReceivesCurrent',\n",
       "      'ReceivesSquareCurrent',\n",
       "      'ProducesActionPotentials',\n",
       "      'ProducesSpikes',\n",
       "      'ProducesMembranePotential'],\n",
       "     'url': 'https://github.com/scidash/neuronunit/blob/master/neuronunit/models/NeuroML2/LEMS_2007One.xml',\n",
       "     'remote_url': 'http://github.com/scidash/neuronunit.git',\n",
       "     'version': '8b85b8e53b136e112a3001c5317bed2ff22f458a',\n",
       "     '_id': 4698555504,\n",
       "     '_class': {'name': 'ReducedModel',\n",
       "      'url': 'https://github.com/scidash/neuronunit/blob/master/neuronunit/models/NeuroML2/LEMS_2007One.xml'}},\n",
       "    'test': {'name': 'Another Test 2',\n",
       "     'description': None,\n",
       "     'verbose': 1,\n",
       "     'observation': {'mean': 2,\n",
       "      'std': 8,\n",
       "      'url': 'http://somewhereelse1.thathasdata.com'},\n",
       "     'unpicklable': [],\n",
       "     'hash': 'eaf1dc52976a9fcc7e8d21cd59ac8e75a9cdf73d59da71f2ac5d4139',\n",
       "     'remote_url': None,\n",
       "     'version': None,\n",
       "     '_id': 4947053592,\n",
       "     '_class': {'name': 'TestFromJupyterNotebook',\n",
       "      'url': 'http://testurl.data.com'}},\n",
       "    'prediction': 7,\n",
       "    'observation': {'mean': 2,\n",
       "     'std': 8,\n",
       "     'url': 'http://somewhereelse1.thathasdata.com'},\n",
       "    'hash': '31d594d7d5c9a2464ce1125ea5fdb91079c93d0024f8ccee826bc0a7',\n",
       "    'url': 'http://github.com/scidash/sciunit.git',\n",
       "    'raw': '0.625',\n",
       "    'remote_url': 'http://github.com/scidash/sciunit.git',\n",
       "    'score_type': 'ZScore',\n",
       "    'summary': \"=== Model Izhikevich_4 achieved score Z = 0.62 on test 'Another Test 2'. ===\",\n",
       "    'version': '84ef7e368746a36cc2b0372198e0354221904cc0',\n",
       "    '_id': 4946470504,\n",
       "    'sort_key': 0.5319710580974011,\n",
       "    '_class': {'name': 'ZScore',\n",
       "     'url': 'http://github.com/scidash/sciunit.git'}}]],\n",
       " 'tests': [{'name': 'TestFromJupyterNotebook',\n",
       "   'description': None,\n",
       "   'verbose': 1,\n",
       "   'observation': {'mean': 8,\n",
       "    'std': 3,\n",
       "    'url': 'http://somewhereelse.thathasdata.com'},\n",
       "   'unpicklable': [],\n",
       "   'hash': 'd5ea8ad7d24c391af598b4dc3f49cfb5d6dec2403f36ffdb9459d222',\n",
       "   'remote_url': None,\n",
       "   'version': None,\n",
       "   '_id': 4842193304,\n",
       "   '_class': {'name': 'TestFromJupyterNotebook',\n",
       "    'url': 'http://testurl.data.com'}},\n",
       "  {'name': 'Another Test',\n",
       "   'description': None,\n",
       "   'verbose': 1,\n",
       "   'observation': {'mean': 3,\n",
       "    'std': 8,\n",
       "    'url': 'http://somewhereelse0.thathasdata.com'},\n",
       "   'unpicklable': [],\n",
       "   'hash': 'a47279f06afb6907a8c8daf5028923e89d4bd0455286cea268425f74',\n",
       "   'remote_url': None,\n",
       "   'version': None,\n",
       "   '_id': 4947053648,\n",
       "   '_class': {'name': 'TestFromJupyterNotebook',\n",
       "    'url': 'http://testurl.data.com'}},\n",
       "  {'name': 'Another Test 2',\n",
       "   'description': None,\n",
       "   'verbose': 1,\n",
       "   'observation': {'mean': 2,\n",
       "    'std': 8,\n",
       "    'url': 'http://somewhereelse1.thathasdata.com'},\n",
       "   'unpicklable': [],\n",
       "   'hash': 'eaf1dc52976a9fcc7e8d21cd59ac8e75a9cdf73d59da71f2ac5d4139',\n",
       "   'remote_url': None,\n",
       "   'version': None,\n",
       "   '_id': 4947053592,\n",
       "   '_class': {'name': 'TestFromJupyterNotebook',\n",
       "    'url': 'http://testurl.data.com'}}],\n",
       " 'models': [{'name': 'Izhikevich_0',\n",
       "   'attrs': {},\n",
       "   'run_params': {},\n",
       "   'backend': 'jNeuroML',\n",
       "   'hash': 'ce4dc390522629be97af1e9c06e4371a0b545cb70aa58e218030ddf2',\n",
       "   'capabilities': ['Runnable',\n",
       "    'ReceivesCurrent',\n",
       "    'ReceivesSquareCurrent',\n",
       "    'ProducesActionPotentials',\n",
       "    'ProducesSpikes',\n",
       "    'ProducesMembranePotential'],\n",
       "   'url': 'https://github.com/scidash/neuronunit/blob/master/neuronunit/models/NeuroML2/LEMS_2007One.xml',\n",
       "   'remote_url': 'http://github.com/scidash/neuronunit.git',\n",
       "   'version': '8b85b8e53b136e112a3001c5317bed2ff22f458a',\n",
       "   '_id': 4698557688,\n",
       "   '_class': {'name': 'ReducedModel',\n",
       "    'url': 'https://github.com/scidash/neuronunit/blob/master/neuronunit/models/NeuroML2/LEMS_2007One.xml'}},\n",
       "  {'name': 'Izhikevich_another_test',\n",
       "   'attrs': {'izhikevich2007Cell': {'a': '0.04 per_ms'}},\n",
       "   'run_params': {},\n",
       "   'backend': 'jNeuroML',\n",
       "   'hash': 'b086fb5512bc8fb7ba7bac528a98466bf4e782f78ec369da883bb0c8',\n",
       "   'capabilities': ['Runnable',\n",
       "    'ReceivesCurrent',\n",
       "    'ReceivesSquareCurrent',\n",
       "    'ProducesActionPotentials',\n",
       "    'ProducesSpikes',\n",
       "    'ProducesMembranePotential'],\n",
       "   'url': 'https://github.com/scidash/neuronunit/blob/master/neuronunit/models/NeuroML2/LEMS_2007One.xml',\n",
       "   'remote_url': 'http://github.com/scidash/neuronunit.git',\n",
       "   'version': '8b85b8e53b136e112a3001c5317bed2ff22f458a',\n",
       "   '_id': 4698557296,\n",
       "   '_class': {'name': 'ReducedModel',\n",
       "    'url': 'https://github.com/scidash/neuronunit/blob/master/neuronunit/models/NeuroML2/LEMS_2007One.xml'}},\n",
       "  {'name': 'Izhikevich_2',\n",
       "   'attrs': {},\n",
       "   'run_params': {},\n",
       "   'backend': 'jNeuroML',\n",
       "   'hash': 'a9f19a85e4d04fd344cee13a97a123933ae8ad45baeecb1f7d3cba22',\n",
       "   'capabilities': ['Runnable',\n",
       "    'ReceivesCurrent',\n",
       "    'ReceivesSquareCurrent',\n",
       "    'ProducesActionPotentials',\n",
       "    'ProducesSpikes',\n",
       "    'ProducesMembranePotential'],\n",
       "   'url': 'https://github.com/scidash/neuronunit/blob/master/neuronunit/models/NeuroML2/LEMS_2007One.xml',\n",
       "   'remote_url': 'http://github.com/scidash/neuronunit.git',\n",
       "   'version': '8b85b8e53b136e112a3001c5317bed2ff22f458a',\n",
       "   '_id': 4698555168,\n",
       "   '_class': {'name': 'ReducedModel',\n",
       "    'url': 'https://github.com/scidash/neuronunit/blob/master/neuronunit/models/NeuroML2/LEMS_2007One.xml'}},\n",
       "  {'name': 'Izhikevich_3',\n",
       "   'attrs': {},\n",
       "   'run_params': {},\n",
       "   'backend': 'jNeuroML',\n",
       "   'hash': 'ca2806148de0484a70a681111881a10b34fb7d5bb8da6f5cae29fd93',\n",
       "   'capabilities': ['Runnable',\n",
       "    'ReceivesCurrent',\n",
       "    'ReceivesSquareCurrent',\n",
       "    'ProducesActionPotentials',\n",
       "    'ProducesSpikes',\n",
       "    'ProducesMembranePotential'],\n",
       "   'url': 'https://github.com/scidash/neuronunit/blob/master/neuronunit/models/NeuroML2/LEMS_2007One.xml',\n",
       "   'remote_url': 'http://github.com/scidash/neuronunit.git',\n",
       "   'version': '8b85b8e53b136e112a3001c5317bed2ff22f458a',\n",
       "   '_id': 4698555336,\n",
       "   '_class': {'name': 'ReducedModel',\n",
       "    'url': 'https://github.com/scidash/neuronunit/blob/master/neuronunit/models/NeuroML2/LEMS_2007One.xml'}},\n",
       "  {'name': 'Izhikevich_4',\n",
       "   'attrs': {},\n",
       "   'run_params': {},\n",
       "   'backend': 'jNeuroML',\n",
       "   'hash': 'bbb644ece9e72f3a0805f8ae7d9b63e26f0debaa9247f88c7ab623b7',\n",
       "   'capabilities': ['Runnable',\n",
       "    'ReceivesCurrent',\n",
       "    'ReceivesSquareCurrent',\n",
       "    'ProducesActionPotentials',\n",
       "    'ProducesSpikes',\n",
       "    'ProducesMembranePotential'],\n",
       "   'url': 'https://github.com/scidash/neuronunit/blob/master/neuronunit/models/NeuroML2/LEMS_2007One.xml',\n",
       "   'remote_url': 'http://github.com/scidash/neuronunit.git',\n",
       "   'version': '8b85b8e53b136e112a3001c5317bed2ff22f458a',\n",
       "   '_id': 4698555504,\n",
       "   '_class': {'name': 'ReducedModel',\n",
       "    'url': 'https://github.com/scidash/neuronunit/blob/master/neuronunit/models/NeuroML2/LEMS_2007One.xml'}}]}"
      ]
     },
     "execution_count": 20,
     "metadata": {},
     "output_type": "execute_result"
    }
   ],
   "source": [
    "%time score_matrix.json(add_props=True,string=False)"
   ]
  },
  {
   "cell_type": "code",
   "execution_count": null,
   "metadata": {},
   "outputs": [],
   "source": []
  }
 ],
 "metadata": {
  "kernelspec": {
   "display_name": "Python 3",
   "language": "python",
   "name": "python3"
  },
  "language_info": {
   "codemirror_mode": {
    "name": "ipython",
    "version": 3
   },
   "file_extension": ".py",
   "mimetype": "text/x-python",
   "name": "python",
   "nbconvert_exporter": "python",
   "pygments_lexer": "ipython3",
   "version": "3.6.9"
  }
 },
 "nbformat": 4,
 "nbformat_minor": 2
}

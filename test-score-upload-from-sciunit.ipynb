{
 "cells": [
  {
   "cell_type": "code",
   "execution_count": 1,
   "metadata": {},
   "outputs": [
    {
     "name": "stdout",
     "output_type": "stream",
     "text": [
      "Could not load GLIFBackend\n"
     ]
    }
   ],
   "source": [
    "%load_ext autoreload\n",
    "%autoreload 2\n",
    "%matplotlib inline\n",
    "import matplotlib.pyplot as plt\n",
    "import os\n",
    "from pprint import pprint\n",
    "import quantities as pq\n",
    "import neuronunit\n",
    "from neuronunit.models.reduced import ReducedModel\n",
    "from neuronunit.capabilities import ProducesSpikes\n",
    "import sciunit\n",
    "import sciunit.scores"
   ]
  },
  {
   "cell_type": "code",
   "execution_count": 2,
   "metadata": {},
   "outputs": [],
   "source": [
    "from neuronunit.tests.passive import InputResistanceTest\n",
    "input_resistance_test = InputResistanceTest({'mean': 125*pq.MOhm,\n",
    "                                             'std': 40*pq.MOhm,\n",
    "                                             'n': 10})"
   ]
  },
  {
   "cell_type": "code",
   "execution_count": 3,
   "metadata": {},
   "outputs": [],
   "source": [
    "# Assumes imported neuronunit is from source, e.g. pip install -e\n",
    "path = os.path.join(neuronunit.__path__[0],'models/NeuroML2/LEMS_2007One.xml')\n",
    "# Instantiate three identical models\n",
    "models = [ReducedModel(path, name='Izhikevich_model', backend='jNeuroML') for i in range(2)]"
   ]
  },
  {
   "cell_type": "code",
   "execution_count": 4,
   "metadata": {},
   "outputs": [],
   "source": [
    "# Change the parameters of the second model\n",
    "models[1].set_attrs(**{'izhikevich2007Cell':{'a':'0.04 per_ms'}})\n",
    "models[1].name = 'Izhikevich_model_2'"
   ]
  },
  {
   "cell_type": "code",
   "execution_count": 5,
   "metadata": {},
   "outputs": [
    {
     "data": {
      "image/png": "[encoded data removed]",
      "text/plain": [
       "<Figure size 432x288 with 1 Axes>"
      ]
     },
     "metadata": {
      "needs_background": "light"
     },
     "output_type": "display_data"
    }
   ],
   "source": [
    "for model in models:\n",
    "    plt.plot(model.get_membrane_potential(), label=model)\n",
    "plt.legend();"
   ]
  },
  {
   "cell_type": "code",
   "execution_count": 6,
   "metadata": {},
   "outputs": [],
   "source": [
    "# A new M2M test which will compare the equality of spike counts across models\n",
    "from scidash_api.tests import RandomTest"
   ]
  },
  {
   "cell_type": "code",
   "execution_count": 7,
   "metadata": {},
   "outputs": [],
   "source": [
    "random_test = RandomTest(observation={'mean':50, 'std':100, 'n': 1})"
   ]
  },
  {
   "cell_type": "code",
   "execution_count": 8,
   "metadata": {},
   "outputs": [],
   "source": [
    "from neuronunit.tests.passive import InputResistanceTest\n",
    "input_resistance_test = InputResistanceTest({'mean': 125.0*pq.MOhm,\n",
    "                                             'std': 40.0*pq.MOhm,\n",
    "                                             'n': 10})\n",
    "suite = sciunit.TestSuite([random_test, input_resistance_test])"
   ]
  },
  {
   "cell_type": "code",
   "execution_count": 9,
   "metadata": {},
   "outputs": [],
   "source": [
    "for model in models:\n",
    "    model._backend.use_memory_cache = True"
   ]
  },
  {
   "cell_type": "code",
   "execution_count": 10,
   "metadata": {},
   "outputs": [],
   "source": [
    "#model.get_list_attr_with_bases('state_hide')"
   ]
  },
  {
   "cell_type": "code",
   "execution_count": 11,
   "metadata": {},
   "outputs": [
    {
     "name": "stdout",
     "output_type": "stream",
     "text": [
      "\u001b[38;2;207;235;133m\u001b[48;2;50;50;50mScore: Z = -0.43 for Izhikevich_model on RandomTest\u001b[0m\n",
      "\u001b[38;2;254;189;109m\u001b[48;2;50;50;50mScore: Z = -1.13 for Izhikevich_model on InputResistanceTest\u001b[0m\n",
      "\u001b[38;2;205;234;131m\u001b[48;2;50;50;50mScore: Z = -0.42 for Izhikevich_model_2 on RandomTest\u001b[0m\n",
      "\u001b[38;2;254;189;109m\u001b[48;2;50;50;50mScore: Z = -1.13 for Izhikevich_model_2 on InputResistanceTest\u001b[0m\n"
     ]
    }
   ],
   "source": [
    "sm = suite.judge(models)\n",
    "import jsonpickle\n",
    "x1 = jsonpickle.encode(models[0])"
   ]
  },
  {
   "cell_type": "code",
   "execution_count": 12,
   "metadata": {},
   "outputs": [
    {
     "name": "stdout",
     "output_type": "stream",
     "text": [
      "\u001b[38;2;223;242;147m\u001b[48;2;50;50;50mScore: Z = -0.50 for Izhikevich_model on RandomTest\u001b[0m\n",
      "\u001b[38;2;254;189;109m\u001b[48;2;50;50;50mScore: Z = -1.13 for Izhikevich_model on InputResistanceTest\u001b[0m\n",
      "\u001b[38;2;223;242;147m\u001b[48;2;50;50;50mScore: Z = -0.50 for Izhikevich_model_2 on RandomTest\u001b[0m\n",
      "\u001b[38;2;254;189;109m\u001b[48;2;50;50;50mScore: Z = -1.13 for Izhikevich_model_2 on InputResistanceTest\u001b[0m\n"
     ]
    }
   ],
   "source": [
    "sm = suite.judge(models)\n",
    "import jsonpickle\n",
    "x2 = jsonpickle.encode(models[0])"
   ]
  },
  {
   "cell_type": "code",
   "execution_count": 13,
   "metadata": {},
   "outputs": [],
   "source": [
    "def check_url(x):\n",
    "    if not x.json(string=False).get('url'):\n",
    "        print(\"Model has no associated url; please set the url attribute of the model\")\n",
    "check_url(models[0])"
   ]
  },
  {
   "cell_type": "code",
   "execution_count": 14,
   "metadata": {},
   "outputs": [],
   "source": [
    "# How do you want your GitHub URLs?  \n",
    "lems_url = (\"https://github.com/scidash/neuronunit/blob/master/neuronunit/\"\n",
    "            \"models/NeuroML2/LEMS_2007One.xml\")\n",
    "models[0]._url = lems_url\n",
    "models[1]._url = lems_url"
   ]
  },
  {
   "cell_type": "code",
   "execution_count": 15,
   "metadata": {},
   "outputs": [],
   "source": [
    "check_url(models[0])"
   ]
  },
  {
   "cell_type": "code",
   "execution_count": 16,
   "metadata": {},
   "outputs": [
    {
     "data": {
      "text/plain": [
       "180"
      ]
     },
     "execution_count": 16,
     "metadata": {},
     "output_type": "execute_result"
    }
   ],
   "source": [
    "from scidash_api import client, settings\n",
    "url = settings.get_config('ip')\n",
    "client_instance = client.ScidashClient({\"base_url\": url},\n",
    "                                       hostname=\"Host's machine\")\n",
    "client_instance.login(username='admin',\n",
    "                      password='admin_test')\n",
    "len(client_instance.token)"
   ]
  },
  {
   "cell_type": "code",
   "execution_count": 17,
   "metadata": {},
   "outputs": [],
   "source": [
    "import json\n",
    "from deepdiff import DeepDiff\n",
    "x1 = sm.json(add_props=True, string=False)\n",
    "x1 = sm.json(add_props=True, string=False)\n",
    "x2 = json.loads(sm.json(add_props=True, string=True))\n",
    "assert DeepDiff(x1, x2) == {}"
   ]
  },
  {
   "cell_type": "code",
   "execution_count": 18,
   "metadata": {},
   "outputs": [
    {
     "data": {
      "text/plain": [
       "{'mean': {'py/reduce': [{'py/function': 'quantities.quantity._reconstruct_quantity'},\n",
       "   ['quantities.quantity.Quantity', 'numpy.ndarray', [0], 'b'],\n",
       "   [1,\n",
       "    [],\n",
       "    {'py/id': 11},\n",
       "    False,\n",
       "    {'py/b64': 'AAAAAABAX0A='},\n",
       "    {'py/object': 'quantities.dimensionality.Dimensionality',\n",
       "     \"UnitQuantity('megaohm', 1000.0 * kiloohm)\": 1,\n",
       "     '__dict__': {}}]]},\n",
       " 'std': {'py/reduce': [{'py/function': 'quantities.quantity._reconstruct_quantity'},\n",
       "   ['quantities.quantity.Quantity', 'numpy.ndarray', [0], 'b'],\n",
       "   [1,\n",
       "    [],\n",
       "    {'py/id': 11},\n",
       "    False,\n",
       "    {'py/b64': 'AAAAAAAAREA='},\n",
       "    {'py/object': 'quantities.dimensionality.Dimensionality',\n",
       "     \"UnitQuantity('megaohm', 1000.0 * kiloohm)\": 1,\n",
       "     '__dict__': {}}]]},\n",
       " 'n': 10}"
      ]
     },
     "execution_count": 18,
     "metadata": {},
     "output_type": "execute_result"
    }
   ],
   "source": [
    "score = sm['Izhikevich_model', 'InputResistanceTest']\n",
    "score.json(add_props=True, string=False)['observation']"
   ]
  },
  {
   "cell_type": "code",
   "execution_count": 19,
   "metadata": {},
   "outputs": [],
   "source": [
    "#score.test.json(add_props=True, simplify=True, string=False)['observation']"
   ]
  },
  {
   "cell_type": "code",
   "execution_count": 20,
   "metadata": {},
   "outputs": [
    {
     "name": "stdout",
     "output_type": "stream",
     "text": [
      "a1fb131221bfbc23f81cd0ca7cf10224761b30a23574c982d2ab583a\n"
     ]
    },
    {
     "name": "stderr",
     "output_type": "stream",
     "text": [
      "ERROR:scidash_api.client:SERVER -> INVALID DATA: ['{\"success\":false,\"errors\":{\"test_instance\":{\"non_field_errors\":[\"Can\\'t instantiate class, reason candidates: {\\'observation\\': [\\'none or more than one rule validate\\', {\\'oneof definition 0\\': [{\\'mean\\': [\\'required field\\'], \\'py/id\\': [\\'unknown field\\'], \\'std\\': [\\'required field\\']}], \\'oneof definition 1\\': [{\\'mean\\': [\\'required field\\'], \\'n\\': [\\'required field\\'], \\'py/id\\': [\\'unknown field\\'], \\'sem\\': [\\'required field\\']}]}]}\"]}}}']\n"
     ]
    }
   ],
   "source": [
    "responses = client_instance.upload_test_score(score)"
   ]
  },
  {
   "cell_type": "code",
   "execution_count": 21,
   "metadata": {},
   "outputs": [
    {
     "name": "stdout",
     "output_type": "stream",
     "text": [
      "{'errors': {'test_instance': {'non_field_errors': [\"Can't instantiate class, \"\n",
      "                                                   'reason candidates: '\n",
      "                                                   \"{'observation': ['none or \"\n",
      "                                                   'more than one rule '\n",
      "                                                   \"validate', {'oneof \"\n",
      "                                                   \"definition 0': [{'mean': \"\n",
      "                                                   \"['required field'], \"\n",
      "                                                   \"'py/id': ['unknown \"\n",
      "                                                   \"field'], 'std': ['required \"\n",
      "                                                   \"field']}], 'oneof \"\n",
      "                                                   \"definition 1': [{'mean': \"\n",
      "                                                   \"['required field'], 'n': \"\n",
      "                                                   \"['required field'], \"\n",
      "                                                   \"'py/id': ['unknown \"\n",
      "                                                   \"field'], 'sem': ['required \"\n",
      "                                                   \"field']}]}]}\"]}},\n",
      " 'success': False}\n"
     ]
    }
   ],
   "source": [
    "pprint(responses.json())"
   ]
  }
 ],
 "metadata": {
  "kernelspec": {
   "display_name": "Python 3",
   "language": "python",
   "name": "python3"
  },
  "language_info": {
   "codemirror_mode": {
    "name": "ipython",
    "version": 3
   },
   "file_extension": ".py",
   "mimetype": "text/x-python",
   "name": "python",
   "nbconvert_exporter": "python",
   "pygments_lexer": "ipython3",
   "version": "3.9.4"
  }
 },
 "nbformat": 4,
 "nbformat_minor": 4
}

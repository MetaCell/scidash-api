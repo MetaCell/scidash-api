{
 "cells": [
  {
   "cell_type": "code",
   "execution_count": null,
   "metadata": {},
   "outputs": [],
   "source": [
    "import sys"
   ]
  },
  {
   "cell_type": "code",
   "execution_count": null,
   "metadata": {},
   "outputs": [],
   "source": [
    "sys.version"
   ]
  },
  {
   "cell_type": "code",
   "execution_count": null,
   "metadata": {},
   "outputs": [],
   "source": [
    "%matplotlib inline\n",
    "import os\n",
    "from pprint import pprint\n",
    "import matplotlib.pyplot as plt\n",
    "import sciunit\n",
    "import sciunit.scores\n",
    "import neuronunit\n",
    "from neuronunit.models.reduced import ReducedModel\n",
    "from neuronunit.capabilities import ProducesSpikes"
   ]
  },
  {
   "cell_type": "code",
   "execution_count": null,
   "metadata": {},
   "outputs": [],
   "source": [
    "# Assumes imported neuronunit is from source, e.g. pip install -e\n",
    "path = os.path.join(neuronunit.__path__[0],'models/NeuroML2/LEMS_2007One.xml')\n",
    "# Instantiate three identical models\n",
    "models = [ReducedModel(path, name='Izhikevich', backend='jNeuroML') for i in range(2)]"
   ]
  },
  {
   "cell_type": "code",
   "execution_count": null,
   "metadata": {},
   "outputs": [],
   "source": [
    "# Change the parameters of the second model\n",
    "models[1].set_attrs(**{'izhikevich2007Cell':{'a':'0.04 per_ms'}})\n",
    "models[1].name = 'Izhikevich_test'"
   ]
  },
  {
   "cell_type": "code",
   "execution_count": null,
   "metadata": {},
   "outputs": [],
   "source": [
    "for model in models:\n",
    "    plt.plot(model.get_membrane_potential(),label=model)\n",
    "plt.legend();"
   ]
  },
  {
   "cell_type": "code",
   "execution_count": null,
   "metadata": {},
   "outputs": [],
   "source": [
    "# A new M2M test which will compare the equality of spike counts across models\n",
    "from scidash_api.tests import RandomTest"
   ]
  },
  {
   "cell_type": "code",
   "execution_count": null,
   "metadata": {},
   "outputs": [],
   "source": [
    "test = RandomTest(observation={'mean':9, 'std':5, 'url':'http://somewhereelse.thathasdata.com'})"
   ]
  },
  {
   "cell_type": "code",
   "execution_count": null,
   "metadata": {},
   "outputs": [],
   "source": [
    "s = test.judge(models)"
   ]
  },
  {
   "cell_type": "code",
   "execution_count": null,
   "metadata": {},
   "outputs": [],
   "source": [
    "s"
   ]
  },
  {
   "cell_type": "code",
   "execution_count": null,
   "metadata": {},
   "outputs": [],
   "source": [
    "x = test.json(string=False)\n",
    "pprint(x)"
   ]
  },
  {
   "cell_type": "code",
   "execution_count": null,
   "metadata": {},
   "outputs": [],
   "source": [
    "def check_url(x):\n",
    "    if not x.json(string=False).get('url'):\n",
    "        print(\"Model has no associated url; please set the url attribute of the model\")\n",
    "check_url(models[0])"
   ]
  },
  {
   "cell_type": "code",
   "execution_count": null,
   "metadata": {},
   "outputs": [],
   "source": [
    "# How do you want your GitHub URLs?  \n",
    "lems_url = (\"https://github.com/scidash/neuronunit/blob/master/neuronunit/\"\n",
    "            \"models/NeuroML2/LEMS_2007One.xml\")\n",
    "models[0]._url = lems_url\n",
    "models[1]._url = lems_url"
   ]
  },
  {
   "cell_type": "code",
   "execution_count": null,
   "metadata": {},
   "outputs": [],
   "source": [
    "check_url(models[0])"
   ]
  },
  {
   "cell_type": "code",
   "execution_count": null,
   "metadata": {},
   "outputs": [],
   "source": [
    "# Has fewer attributes because most of them came from the LEMS file so those are assumed\n",
    "# to still be the values in memory.  If we need to extract these then I need to find a\n",
    "# way to read them from the file; however, there may be no general way to do so for all\n",
    "# LEMS files, and certainly not for all possible models.  \n",
    "x = models[0].json(add_props=True, string=False)\n",
    "pprint(x)"
   ]
  },
  {
   "cell_type": "code",
   "execution_count": null,
   "metadata": {},
   "outputs": [],
   "source": [
    "# Has more attributes because some of the original attributes from the LEMS file \n",
    "# were replaced with new ones in this session\n",
    "models[1].backend = ''\n",
    "x = models[1].json(add_props=True, string=False)\n",
    "pprint(x)"
   ]
  },
  {
   "cell_type": "code",
   "execution_count": null,
   "metadata": {},
   "outputs": [],
   "source": [
    "# Select one score from the score matrix\n",
    "score = s['Izhikevich_test','RandomTest']\n",
    "x = score.json(string=False)\n",
    "pprint(x)"
   ]
  },
  {
   "cell_type": "code",
   "execution_count": null,
   "metadata": {},
   "outputs": [],
   "source": [
    "# Add additional properties to the JSON output\n",
    "x = score.json(add_props=True,string=False)\n",
    "pprint(x)"
   ]
  },
  {
   "cell_type": "code",
   "execution_count": null,
   "metadata": {},
   "outputs": [],
   "source": [
    "from scidash_api import client"
   ]
  },
  {
   "cell_type": "code",
   "execution_count": null,
   "metadata": {},
   "outputs": [],
   "source": [
    "import json,urllib.request\n",
    "data = urllib.request.urlopen('https://raw.githubusercontent.com/MetaCell/scidash-api/development/dev-ip.json').read()\n",
    "output = json.loads(data)\n",
    "ip = output[\"ip\"]\n",
    "print (ip)"
   ]
  },
  {
   "cell_type": "code",
   "execution_count": null,
   "metadata": {},
   "outputs": [],
   "source": [
    "client_instance = client.ScidashClient({\"base_url\": ip}, hostname=\"Host's machine\")\n",
    "\n",
    "client_instance.login(username='admin', password='admin_test')\n",
    "\n",
    "print(client_instance.token)"
   ]
  },
  {
   "cell_type": "code",
   "execution_count": null,
   "metadata": {},
   "outputs": [],
   "source": [
    "responses = client_instance.upload_test_score(score)"
   ]
  },
  {
   "cell_type": "code",
   "execution_count": null,
   "metadata": {},
   "outputs": [],
   "source": [
    "pprint(responses.json())"
   ]
  }
 ],
 "metadata": {
  "kernelspec": {
   "display_name": "Python 3",
   "language": "python",
   "name": "python3"
  },
  "language_info": {
   "codemirror_mode": {
    "name": "ipython",
    "version": 3
   },
   "file_extension": ".py",
   "mimetype": "text/x-python",
   "name": "python",
   "nbconvert_exporter": "python",
   "pygments_lexer": "ipython3",
   "version": "3.6.9"
  }
 },
 "nbformat": 4,
 "nbformat_minor": 2
}

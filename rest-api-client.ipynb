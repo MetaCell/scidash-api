{
 "cells": [
  {
   "cell_type": "code",
   "execution_count": null,
   "id": "df2567a1",
   "metadata": {},
   "outputs": [],
   "source": [
    "%load_ext autoreload\n",
    "%autoreload 2\n",
    "%matplotlib inline\n",
    "import neuronunit\n",
    "import matplotlib.pyplot as plt\n",
    "import os\n",
    "import quantities as pq\n",
    "from neuronunit.models.reduced import ReducedModel\n",
    "from scidash_api import rest_client, settings"
   ]
  },
  {
   "cell_type": "code",
   "execution_count": null,
   "id": "e641c0fd",
   "metadata": {},
   "outputs": [],
   "source": [
    "from neuronunit.tests.passive import InputResistanceTest\n",
    "input_resistance_test = InputResistanceTest(\n",
    "    observation={'mean': 125*pq.MOhm,'std': 40*pq.MOhm,'n': 10},\n",
    "    name='Input Resistance Test',\n",
    "    dt=0.000025*pq.ms,\n",
    "    delay=0.1*pq.ms,\n",
    "    # padding=0.2*pq.ms,  # we need a fix here when judging the test with the models\n",
    "    # ration=0.3*pq.ms,  # we need a fix here when judging the test with the models\n",
    "    amplitude=-1.0000000000000001e-11*pq.pA\n",
    ")\n"
   ]
  },
  {
   "cell_type": "code",
   "execution_count": null,
   "id": "0dd5e4f5",
   "metadata": {},
   "outputs": [],
   "source": [
    "model_class_url = 'https://raw.githubusercontent.com/scidash/neuronunit/metacell/neuronunit/models/NeuroML2/LEMS_2007One.xml'\n",
    "\n",
    "# Instantiate two identical models\n",
    "models = [ReducedModel(model_class_url, name='Izhikevich_model', backend='jNeuroML') for i in range(2)]"
   ]
  },
  {
   "cell_type": "code",
   "execution_count": null,
   "id": "3064b2d2",
   "metadata": {},
   "outputs": [],
   "source": [
    "# Change the parameters of the second model\n",
    "models[1].set_attrs(**{'izhikevich2007Cell':{'a':'0.04 per_ms'}})\n",
    "models[1].name = 'Izhikevich_model_2'"
   ]
  },
  {
   "cell_type": "code",
   "execution_count": null,
   "id": "c6813986",
   "metadata": {},
   "outputs": [],
   "source": [
    "for model in models:\n",
    "    plt.plot(model.get_membrane_potential(), label=model)\n",
    "plt.legend();"
   ]
  },
  {
   "cell_type": "code",
   "execution_count": null,
   "id": "6aa6e18f",
   "metadata": {},
   "outputs": [],
   "source": [
    "s = input_resistance_test.judge(models)"
   ]
  },
  {
   "cell_type": "code",
   "execution_count": null,
   "id": "52aca52b",
   "metadata": {},
   "outputs": [],
   "source": [
    "\n",
    "# use the new SciDash rest api client for uploading the test(s) and model(s) and execute a run\n"
   ]
  },
  {
   "cell_type": "code",
   "execution_count": null,
   "id": "9649825d",
   "metadata": {},
   "outputs": [],
   "source": [
    "# create a SciDash rest api client\n",
    "base_url = settings.get_config('ip')\n",
    "rest_client = rest_client.ScidashRestApiClient(base_url=base_url, username='admin', password='admin_test')"
   ]
  },
  {
   "cell_type": "code",
   "execution_count": null,
   "id": "8e55f0a6",
   "metadata": {},
   "outputs": [],
   "source": [
    "# build a new test instance dict object from the test\n",
    "test_instance = rest_client.build_test_instance_dict(\n",
    "    test=input_resistance_test,\n",
    "    name='Name of the Test instance',\n",
    "    description='Description of the Test instance',\n",
    "    tags=[]\n",
    ")\n",
    "\n",
    "# create a test instance and store it for later\n",
    "new_test_instance = rest_client.create_test(test_instance=test_instance)"
   ]
  },
  {
   "cell_type": "code",
   "execution_count": null,
   "id": "9d19daf4",
   "metadata": {},
   "outputs": [],
   "source": [
    "# build new model instance dict objects from the models\n",
    "new_model_instances = []\n",
    "for model in models:\n",
    "    run_params = {\n",
    "        \"stateVariables\":[\n",
    "            \"net1.RS_pop[0].u\",\n",
    "            \"net1.RS_pop[0].iSyn\",\n",
    "            \"net1.RS_pop[0].iMemb\",\n",
    "            \"net1.RS_pop[0].v\",\n",
    "            \"net1.explicitInput.RS_Iext.i\",\n",
    "            \"time\"],\n",
    "        \"watchedVariables\":[\n",
    "            \"net1.RS_pop[0].u\",\n",
    "            \"net1.RS_pop[0].v\"],\n",
    "        \"params\":[\n",
    "            {\"name\":\"Model.neuroml.RS.v0\",\"value\":\"-60\",\"unit\":\"mV\"},\n",
    "            {\"name\":\"Model.neuroml.RS.k\",\"value\":\"0.699999\",\"unit\":\"nS_per_mV\"},\n",
    "            {\"name\":\"Model.neuroml.RS.vr\",\"value\":\"-60\",\"unit\":\"mV\"},\n",
    "            {\"name\":\"Model.neuroml.RS.vt\",\"value\":\"-40\",\"unit\":\"mV\"},\n",
    "            {\"name\":\"Model.neuroml.RS.vpeak\",\"value\":\"35\",\"unit\":\"mV\"},\n",
    "            {\"name\":\"Model.neuroml.RS.a\",\"value\":\"0.029999\",\"unit\":\"per_ms\"},\n",
    "            {\"name\":\"Model.neuroml.RS.b\",\"value\":\"-2\",\"unit\":\"nS\"},\n",
    "            {\"name\":\"Model.neuroml.RS.c\",\"value\":\"-50\",\"unit\":\"mV\"},\n",
    "            {\"name\":\"Model.neuroml.RS.d\",\"value\":\"100\",\"unit\":\"pA\"},\n",
    "            {\"name\":\"Model.neuroml.RS.C\",\"value\":\"100\",\"unit\":\"pF\"},\n",
    "            {\"name\":\"Model.neuroml.RS_Iext.delay\",\"value\":\"0\",\"unit\":\"ms\"},\n",
    "            {\"name\":\"Model.neuroml.RS_Iext.duration\",\"value\":\"520\",\"unit\":\"ms\"},\n",
    "            {\"name\":\"Model.neuroml.RS_Iext.amplitude\",\"value\":\"100\",\"unit\":\"pA\"}]\n",
    "    }\n",
    "    model_instance = rest_client.build_model_instance_dict(\n",
    "        model=model,\n",
    "        model_class_url=model_class_url,\n",
    "        name=\"Name of the Model instance\",\n",
    "        run_params=run_params,\n",
    "        tags=[],\n",
    "        backend=None\n",
    "    )\n",
    "\n",
    "    # create the model and store it for later\n",
    "    new_model_instances.append(rest_client.create_model(model_instance=model_instance))\n"
   ]
  },
  {
   "cell_type": "code",
   "execution_count": null,
   "id": "2cf15c01",
   "metadata": {},
   "outputs": [],
   "source": [
    "# schedule the test and model\n",
    "# for suites you can pass multiple test and model instances and the name of the new suite\n",
    "rest_client.schedule(\n",
    "    suite_name='',\n",
    "    test_instances=[new_test_instance,],\n",
    "    model_instances=new_model_instances)\n"
   ]
  }
 ],
 "metadata": {
  "kernelspec": {
   "display_name": "Python 3",
   "language": "python",
   "name": "python3"
  },
  "language_info": {
   "codemirror_mode": {
    "name": "ipython",
    "version": 3
   },
   "file_extension": ".py",
   "mimetype": "text/x-python",
   "name": "python",
   "nbconvert_exporter": "python",
   "pygments_lexer": "ipython3",
   "version": "3.6.9"
  }
 },
 "nbformat": 4,
 "nbformat_minor": 5
}
